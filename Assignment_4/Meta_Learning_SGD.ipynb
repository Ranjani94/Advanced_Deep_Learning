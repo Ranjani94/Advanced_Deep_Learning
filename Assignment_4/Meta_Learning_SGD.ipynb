{
  "nbformat": 4,
  "nbformat_minor": 0,
  "metadata": {
    "colab": {
      "name": "Meta_Learning_SGD.ipynb",
      "provenance": [],
      "authorship_tag": "ABX9TyPgjtGUmN1VLhlgHzbqxgqz",
      "include_colab_link": true
    },
    "kernelspec": {
      "name": "python3",
      "display_name": "Python 3"
    }
  },
  "cells": [
    {
      "cell_type": "markdown",
      "metadata": {
        "id": "view-in-github",
        "colab_type": "text"
      },
      "source": [
        "<a href=\"https://colab.research.google.com/github/Ranjani94/Advanced_Deep_Learning/blob/master/Assignment_4/Meta_Learning_SGD.ipynb\" target=\"_parent\"><img src=\"https://colab.research.google.com/assets/colab-badge.svg\" alt=\"Open In Colab\"/></a>"
      ]
    },
    {
      "cell_type": "markdown",
      "metadata": {
        "id": "BWno4N--pVZj"
      },
      "source": [
        "## Building Meta-SGD from Scratch\n",
        "\n",
        "In this section we will understand Meta-SGD by coding them from scratch. For better understanding, we consider a simple binary classification task. We randomly generate our input data and we train them with a simple single layer neural network and try to find the optimal parameter $\\theta$."
      ]
    },
    {
      "cell_type": "code",
      "metadata": {
        "id": "XxqK6jzYn0kc"
      },
      "source": [
        "import numpy as np"
      ],
      "execution_count": 1,
      "outputs": []
    },
    {
      "cell_type": "markdown",
      "metadata": {
        "id": "r_d9sT4epl9i"
      },
      "source": [
        "### Generate data points\n",
        "\n",
        "\n",
        "Now we define a function called sample_points for generating our input (x,y) pairs. It takes the parameter k as an input which implies number of (x,y) pairs we want to sample."
      ]
    },
    {
      "cell_type": "code",
      "metadata": {
        "id": "In_HLDtzotPF"
      },
      "source": [
        "def sample_points(k):\n",
        "    x = np.random.rand(k,50)\n",
        "    y = np.random.choice([0, 1], size=k, p=[.5, .5]).reshape([-1,1])\n",
        "    return x,y"
      ],
      "execution_count": 2,
      "outputs": []
    },
    {
      "cell_type": "code",
      "metadata": {
        "id": "PNBTwW8Xou-R",
        "outputId": "aa3995f4-0117-499d-bca8-98652697b6d9",
        "colab": {
          "base_uri": "https://localhost:8080/",
          "height": 187
        }
      },
      "source": [
        "x, y = sample_points(10)\n",
        "print(x[0])\n",
        "print(y[0])"
      ],
      "execution_count": 4,
      "outputs": [
        {
          "output_type": "stream",
          "text": [
            "[0.86050944 0.51241958 0.23490003 0.19957496 0.74264903 0.93961756\n",
            " 0.31805918 0.0255723  0.86916454 0.06342904 0.62323582 0.59500317\n",
            " 0.83133044 0.20505177 0.36490179 0.80802275 0.50069791 0.57797394\n",
            " 0.12887045 0.45712591 0.81147314 0.65312743 0.47182785 0.55471166\n",
            " 0.5417933  0.40251719 0.70605603 0.20950528 0.50985149 0.74959466\n",
            " 0.67626769 0.88289185 0.53794213 0.42069221 0.25671834 0.70073932\n",
            " 0.16725102 0.91146696 0.81147878 0.50532459 0.82676807 0.56645623\n",
            " 0.09224007 0.06033134 0.57324008 0.95940095 0.58296701 0.42377697\n",
            " 0.39329409 0.84970208]\n",
            "[0]\n"
          ],
          "name": "stdout"
        }
      ]
    },
    {
      "cell_type": "markdown",
      "metadata": {
        "id": "OCx9jC04pzMo"
      },
      "source": [
        "### Defining Meta-SGD\n",
        "\n",
        "\n",
        "So, we use Meta-SGD for finding this optimal parameter value $\\theta$ and also optimal learning rate and update direction that is generalizable across tasks. So that for a new task, we can learn from a few data points in a lesser time by taking very less gradient steps. we define a class called MetaSGD where we implement the Meta-SGD algorithm. In the __init__ method we will initialize all the necessary variables. Then we define our sigmoid activation function. Followed by we define our train function."
      ]
    },
    {
      "cell_type": "code",
      "metadata": {
        "id": "8p1Ryb4towkT"
      },
      "source": [
        "class MetaSGD(object):\n",
        "    def __init__(self):\n",
        "        \n",
        "        #initialize number of tasks i.e number of tasks we need in each batch of tasks\n",
        "        self.num_tasks = 2\n",
        "        \n",
        "        #number of samples i.e number of shots  -number of data points (k) we need to have in each task\n",
        "        self.num_samples = 10\n",
        "\n",
        "        #number of epochs i.e training iterations\n",
        "        self.epochs = 10000\n",
        "        \n",
        "        #hyperparameter for the inner loop (inner gradient update)\n",
        "        self.alpha = 0.0001\n",
        "        \n",
        "        #hyperparameter for the outer loop (outer gradient update) i.e meta optimization\n",
        "        self.beta = 0.0001\n",
        "       \n",
        "        #randomly initialize our model parameter theta\n",
        "        self.theta = np.random.normal(size=50).reshape(50, 1)\n",
        "         \n",
        "        #randomly initialize alpha with same shape as theta\n",
        "        self.alpha = np.random.normal(size=50).reshape(50, 1)\n",
        "      \n",
        "    #define our sigmoid activation function  \n",
        "    def sigmoid(self,a):\n",
        "        return 1.0 / (1 + np.exp(-a))\n",
        "    #now let us get to the interesting part i.e training :P\n",
        "    def train(self):\n",
        "        \n",
        "        #for the number of epochs,\n",
        "        for e in range(self.epochs):        \n",
        "            \n",
        "            self.theta_ = []\n",
        "            \n",
        "            #for task i in batch of tasks\n",
        "            for i in range(self.num_tasks):\n",
        "               \n",
        "                #sample k data points and prepare our train set\n",
        "                XTrain, YTrain = sample_points(self.num_samples)\n",
        "                \n",
        "                a = np.matmul(XTrain, self.theta)\n",
        "\n",
        "                YHat = self.sigmoid(a)\n",
        "\n",
        "                #since we are performing classification, we use cross entropy loss as our loss function\n",
        "                loss = ((np.matmul(-YTrain.T, np.log(YHat)) - np.matmul((1 -YTrain.T), np.log(1 - YHat)))/self.num_samples)[0][0]\n",
        "                \n",
        "                #minimize the loss by calculating gradients\n",
        "                gradient = np.matmul(XTrain.T, (YHat - YTrain)) / self.num_samples\n",
        "\n",
        "                #update the gradients and find the optimal parameter theta' for each of tasks\n",
        "                self.theta_.append(self.theta - (np.multiply(self.alpha,gradient)))\n",
        "                \n",
        "     \n",
        "            #initialize meta gradients\n",
        "            meta_gradient = np.zeros(self.theta.shape)\n",
        "                        \n",
        "            for i in range(self.num_tasks):\n",
        "            \n",
        "                #sample k data points and prepare our test set for meta training\n",
        "                XTest, YTest = sample_points(10)\n",
        "\n",
        "                #predict the value of y\n",
        "                a = np.matmul(XTest, self.theta_[i])\n",
        "                \n",
        "                YPred = self.sigmoid(a)\n",
        "                #compute meta gradients\n",
        "                meta_gradient += np.matmul(XTest.T, (YPred - YTest)) / self.num_samples\n",
        "\n",
        "            #update our randomly initialized model parameter theta with the meta gradients\n",
        "            self.theta = self.theta-self.beta*meta_gradient/self.num_tasks\n",
        "                       \n",
        "            #update our randomly initialized hyperparameter alpha with the meta gradients\n",
        "            self.alpha = self.alpha-self.beta*meta_gradient/self.num_tasks\n",
        "                                       \n",
        "            if e%1000==0:\n",
        "                print(\"Epoch {}: Loss {}\\n\".format(e,loss))           \n",
        "                print('Updated Model Parameter Theta\\n')\n",
        "                print('Sampling Next Batch of Tasks \\n')\n",
        "                print('---------------------------------\\n')"
      ],
      "execution_count": 6,
      "outputs": []
    },
    {
      "cell_type": "code",
      "metadata": {
        "id": "39cHolUjpBll"
      },
      "source": [
        "model = MetaSGD()"
      ],
      "execution_count": 7,
      "outputs": []
    },
    {
      "cell_type": "code",
      "metadata": {
        "id": "9yOCi-GLpDof",
        "outputId": "6631ddc7-4a6a-4751-96b0-78aeedb20ae4",
        "colab": {
          "base_uri": "https://localhost:8080/",
          "height": 1000
        }
      },
      "source": [
        "model.train()"
      ],
      "execution_count": 8,
      "outputs": [
        {
          "output_type": "stream",
          "text": [
            "Epoch 0: Loss 0.9230815175530779\n",
            "\n",
            "Updated Model Parameter Theta\n",
            "\n",
            "Sampling Next Batch of Tasks \n",
            "\n",
            "---------------------------------\n",
            "\n",
            "Epoch 1000: Loss 0.6478647412327364\n",
            "\n",
            "Updated Model Parameter Theta\n",
            "\n",
            "Sampling Next Batch of Tasks \n",
            "\n",
            "---------------------------------\n",
            "\n",
            "Epoch 2000: Loss 1.4033486023830064\n",
            "\n",
            "Updated Model Parameter Theta\n",
            "\n",
            "Sampling Next Batch of Tasks \n",
            "\n",
            "---------------------------------\n",
            "\n",
            "Epoch 3000: Loss 1.0395645196517265\n",
            "\n",
            "Updated Model Parameter Theta\n",
            "\n",
            "Sampling Next Batch of Tasks \n",
            "\n",
            "---------------------------------\n",
            "\n",
            "Epoch 4000: Loss 1.1220517751375882\n",
            "\n",
            "Updated Model Parameter Theta\n",
            "\n",
            "Sampling Next Batch of Tasks \n",
            "\n",
            "---------------------------------\n",
            "\n",
            "Epoch 5000: Loss 1.125837687246363\n",
            "\n",
            "Updated Model Parameter Theta\n",
            "\n",
            "Sampling Next Batch of Tasks \n",
            "\n",
            "---------------------------------\n",
            "\n",
            "Epoch 6000: Loss 2.194164480723637\n",
            "\n",
            "Updated Model Parameter Theta\n",
            "\n",
            "Sampling Next Batch of Tasks \n",
            "\n",
            "---------------------------------\n",
            "\n",
            "Epoch 7000: Loss 0.9017794120251473\n",
            "\n",
            "Updated Model Parameter Theta\n",
            "\n",
            "Sampling Next Batch of Tasks \n",
            "\n",
            "---------------------------------\n",
            "\n",
            "Epoch 8000: Loss 0.5693659896155703\n",
            "\n",
            "Updated Model Parameter Theta\n",
            "\n",
            "Sampling Next Batch of Tasks \n",
            "\n",
            "---------------------------------\n",
            "\n",
            "Epoch 9000: Loss 1.216102560413016\n",
            "\n",
            "Updated Model Parameter Theta\n",
            "\n",
            "Sampling Next Batch of Tasks \n",
            "\n",
            "---------------------------------\n",
            "\n"
          ],
          "name": "stdout"
        }
      ]
    }
  ]
}