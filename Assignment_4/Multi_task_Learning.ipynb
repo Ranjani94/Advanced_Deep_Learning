{
  "nbformat": 4,
  "nbformat_minor": 0,
  "metadata": {
    "colab": {
      "name": "Multi_task_Learning.ipynb",
      "provenance": [],
      "authorship_tag": "ABX9TyN81p1Pm/R0UcaaFQpUeDdO",
      "include_colab_link": true
    },
    "kernelspec": {
      "name": "python3",
      "display_name": "Python 3"
    }
  },
  "cells": [
    {
      "cell_type": "markdown",
      "metadata": {
        "id": "view-in-github",
        "colab_type": "text"
      },
      "source": [
        "<a href=\"https://colab.research.google.com/github/Ranjani94/Advanced_Deep_Learning/blob/master/Assignment_4/Multi_task_Learning.ipynb\" target=\"_parent\"><img src=\"https://colab.research.google.com/assets/colab-badge.svg\" alt=\"Open In Colab\"/></a>"
      ]
    },
    {
      "cell_type": "markdown",
      "metadata": {
        "id": "7Jt8GgpXpXo8"
      },
      "source": [
        "## A simple Multi task learning example"
      ]
    },
    {
      "cell_type": "code",
      "metadata": {
        "id": "y2SFYOM2ocW6"
      },
      "source": [
        "import sys\n",
        "import numpy as np\n",
        "np.random.seed(0)\n"
      ],
      "execution_count": 1,
      "outputs": []
    },
    {
      "cell_type": "markdown",
      "metadata": {
        "id": "hJ8-bDvbp4zW"
      },
      "source": [
        "### Multi loss layer"
      ]
    },
    {
      "cell_type": "code",
      "metadata": {
        "id": "UYbzhe-PolOv"
      },
      "source": [
        "from keras.layers import Input, Dense, Lambda, Layer\n",
        "from keras.initializers import Constant\n",
        "from keras.models import Model\n",
        "from keras import backend as K\n",
        "\n",
        "# Custom loss layer\n",
        "class CustomMultiLossLayer(Layer):\n",
        "    def __init__(self, nb_outputs=2, **kwargs):\n",
        "        self.nb_outputs = nb_outputs\n",
        "        self.is_placeholder = True\n",
        "        super(CustomMultiLossLayer, self).__init__(**kwargs)\n",
        "        \n",
        "    def build(self, input_shape=None):\n",
        "        # initialise log_vars\n",
        "        self.log_vars = []\n",
        "        for i in range(self.nb_outputs):\n",
        "            self.log_vars += [self.add_weight(name='log_var' + str(i), shape=(1,),\n",
        "                                              initializer=Constant(0.), trainable=True)]\n",
        "        super(CustomMultiLossLayer, self).build(input_shape)\n",
        "\n",
        "    def multi_loss(self, ys_true, ys_pred):\n",
        "        assert len(ys_true) == self.nb_outputs and len(ys_pred) == self.nb_outputs\n",
        "        loss = 0\n",
        "        for y_true, y_pred, log_var in zip(ys_true, ys_pred, self.log_vars):\n",
        "            precision = K.exp(-log_var[0])\n",
        "            loss += K.sum(precision * (y_true - y_pred)**2. + log_var[0], -1)\n",
        "        return K.mean(loss)\n",
        "\n",
        "    def call(self, inputs):\n",
        "        ys_true = inputs[:self.nb_outputs]\n",
        "        ys_pred = inputs[self.nb_outputs:]\n",
        "        loss = self.multi_loss(ys_true, ys_pred)\n",
        "        self.add_loss(loss, inputs=inputs)\n",
        "        # We won't actually use the output.\n",
        "        return K.concatenate(inputs, -1)"
      ],
      "execution_count": 2,
      "outputs": []
    },
    {
      "cell_type": "code",
      "metadata": {
        "id": "lshH1ADDoqp6"
      },
      "source": [
        "\n",
        "N = 100\n",
        "nb_epoch = 2000\n",
        "batch_size = 20\n",
        "nb_features = 1024\n",
        "Q = 1\n",
        "D1 = 1  # first output\n",
        "D2 = 1  # second output"
      ],
      "execution_count": 3,
      "outputs": []
    },
    {
      "cell_type": "markdown",
      "metadata": {
        "id": "uPHl34_Xp8_K"
      },
      "source": [
        "### Evaluate on synthetic data"
      ]
    },
    {
      "cell_type": "code",
      "metadata": {
        "id": "Bqf-EBogotGD"
      },
      "source": [
        "def gen_data(N):\n",
        "    X = np.random.randn(N, Q)\n",
        "    w1 = 2.\n",
        "    b1 = 8.\n",
        "    sigma1 = 1e1  # ground truth\n",
        "    Y1 = X.dot(w1) + b1 + sigma1 * np.random.randn(N, D1)\n",
        "    w2 = 3\n",
        "    b2 = 3.\n",
        "    sigma2 = 1e0  # ground truth\n",
        "    Y2 = X.dot(w2) + b2 + sigma2 * np.random.randn(N, D2)\n",
        "    return X, Y1, Y2"
      ],
      "execution_count": 4,
      "outputs": []
    },
    {
      "cell_type": "code",
      "metadata": {
        "id": "HusJVsh8ou2c",
        "outputId": "bc0949f9-5fe8-4790-8b53-8c5ab1628303",
        "colab": {
          "base_uri": "https://localhost:8080/",
          "height": 129
        }
      },
      "source": [
        "import pylab\n",
        "%matplotlib inline\n",
        "\n",
        "X, Y1, Y2 = gen_data(N)\n",
        "pylab.figure(figsize=(3, 1.5))\n",
        "pylab.scatter(X[:, 0], Y1[:, 0])\n",
        "pylab.scatter(X[:, 0], Y2[:, 0])\n",
        "pylab.show()"
      ],
      "execution_count": 5,
      "outputs": [
        {
          "output_type": "display_data",
          "data": {
            "image/png": "[encoded data removed]",
            "text/plain": [
              "<Figure size 216x108 with 1 Axes>"
            ]
          },
          "metadata": {
            "tags": [],
            "needs_background": "light"
          }
        }
      ]
    },
    {
      "cell_type": "markdown",
      "metadata": {
        "id": "RbjrBDGPqCN_"
      },
      "source": [
        "### Example model"
      ]
    },
    {
      "cell_type": "code",
      "metadata": {
        "id": "ZsfczmS-oxXj"
      },
      "source": [
        "def get_prediction_model():\n",
        "    inp = Input(shape=(Q,), name='inp')\n",
        "    x = Dense(nb_features, activation='relu')(inp)\n",
        "    y1_pred = Dense(D1)(x)\n",
        "    y2_pred = Dense(D2)(x)\n",
        "    return Model(inp, [y1_pred, y2_pred])\n",
        "\n",
        "def get_trainable_model(prediction_model):\n",
        "    inp = Input(shape=(Q,), name='inp')\n",
        "    y1_pred, y2_pred = prediction_model(inp)\n",
        "    y1_true = Input(shape=(D1,), name='y1_true')\n",
        "    y2_true = Input(shape=(D2,), name='y2_true')\n",
        "    out = CustomMultiLossLayer(nb_outputs=2)([y1_true, y2_true, y1_pred, y2_pred])\n",
        "    return Model([inp, y1_true, y2_true], out)\n",
        "\n",
        "prediction_model = get_prediction_model()\n",
        "trainable_model = get_trainable_model(prediction_model)\n",
        "trainable_model.compile(optimizer='adam', loss=None)\n",
        "assert len(trainable_model.layers[-1].trainable_weights) == 2  # two log_vars, one for each output\n",
        "assert len(trainable_model.losses) == 1"
      ],
      "execution_count": 8,
      "outputs": []
    },
    {
      "cell_type": "code",
      "metadata": {
        "id": "ke22t9uEo0ma"
      },
      "source": [
        "hist = trainable_model.fit([X, Y1, Y2], epochs=nb_epoch, batch_size=batch_size, verbose=0)"
      ],
      "execution_count": 10,
      "outputs": []
    },
    {
      "cell_type": "code",
      "metadata": {
        "id": "KmRq3MeEo4m3",
        "outputId": "8b19082c-add7-4d94-97eb-48daa4d48148",
        "colab": {
          "base_uri": "https://localhost:8080/",
          "height": 282
        }
      },
      "source": [
        "pylab.plot(hist.history['loss'])"
      ],
      "execution_count": 11,
      "outputs": [
        {
          "output_type": "execute_result",
          "data": {
            "text/plain": [
              "[<matplotlib.lines.Line2D at 0x7fe7be46db00>]"
            ]
          },
          "metadata": {
            "tags": []
          },
          "execution_count": 11
        },
        {
          "output_type": "display_data",
          "data": {
            "image/png": "[encoded data removed]",
            "text/plain": [
              "<Figure size 432x288 with 1 Axes>"
            ]
          },
          "metadata": {
            "tags": [],
            "needs_background": "light"
          }
        }
      ]
    },
    {
      "cell_type": "code",
      "metadata": {
        "id": "JtCkGys7pShU",
        "outputId": "ae0cc315-4562-4522-ac6d-c1f35b3f4891",
        "colab": {
          "base_uri": "https://localhost:8080/",
          "height": 34
        }
      },
      "source": [
        "# Found standard deviations (ground truth is 10 and 1):\n",
        "[np.exp(K.get_value(log_var[0]))**0.5 for log_var in trainable_model.layers[-1].log_vars]"
      ],
      "execution_count": 12,
      "outputs": [
        {
          "output_type": "execute_result",
          "data": {
            "text/plain": [
              "[8.65513939739166, 0.9213827726424176]"
            ]
          },
          "metadata": {
            "tags": []
          },
          "execution_count": 12
        }
      ]
    }
  ]
}