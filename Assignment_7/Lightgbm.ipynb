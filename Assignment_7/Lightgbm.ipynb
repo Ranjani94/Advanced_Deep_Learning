{
  "nbformat": 4,
  "nbformat_minor": 0,
  "metadata": {
    "colab": {
      "name": "Lightgbm.ipynb",
      "provenance": [],
      "authorship_tag": "ABX9TyN9nhvBAH2/TqSx87I9R6gm",
      "include_colab_link": true
    },
    "kernelspec": {
      "name": "python3",
      "display_name": "Python 3"
    }
  },
  "cells": [
    {
      "cell_type": "markdown",
      "metadata": {
        "id": "view-in-github",
        "colab_type": "text"
      },
      "source": [
        "<a href=\"https://colab.research.google.com/github/Ranjani94/Advanced_Deep_Learning/blob/master/Assignment_7/Lightgbm.ipynb\" target=\"_parent\"><img src=\"https://colab.research.google.com/assets/colab-badge.svg\" alt=\"Open In Colab\"/></a>"
      ]
    },
    {
      "cell_type": "markdown",
      "metadata": {
        "id": "911OB0IdxHU5"
      },
      "source": [
        "## Simple example for LightGBM algorithm using breast cancer dataset"
      ]
    },
    {
      "cell_type": "code",
      "metadata": {
        "id": "tWh_cpwOqHuk"
      },
      "source": [
        "import numpy as np\n",
        "import pandas as pd\n",
        "import lightgbm as lgb\n",
        "from sklearn.model_selection import train_test_split\n",
        "from sklearn.preprocessing import LabelBinarizer\n",
        "from sklearn.datasets import load_breast_cancer\n",
        "from sklearn.model_selection import train_test_split\n",
        "from sklearn.preprocessing import StandardScaler\n",
        "from sklearn.ensemble import GradientBoostingClassifier\n",
        "from sklearn.metrics import mean_squared_error,roc_auc_score,precision_score\n",
        "pd.options.display.max_columns = 999"
      ],
      "execution_count": 9,
      "outputs": []
    },
    {
      "cell_type": "code",
      "metadata": {
        "id": "_39iX1c4rJc6"
      },
      "source": [
        "X=load_breast_cancer()\n",
        "df=pd.DataFrame(X.data,columns=X.feature_names)\n",
        "Y=X.target "
      ],
      "execution_count": 10,
      "outputs": []
    },
    {
      "cell_type": "code",
      "metadata": {
        "id": "MoqqkpmhrLNw"
      },
      "source": [
        "#scaling the features using Standard Scaler\n",
        "sc=StandardScaler()\n",
        "sc.fit(df)\n",
        "X=pd.DataFrame(sc.fit_transform(df))\n"
      ],
      "execution_count": 11,
      "outputs": []
    },
    {
      "cell_type": "code",
      "metadata": {
        "id": "0aMZ91qTwE7T"
      },
      "source": [
        "#train_test_split \n",
        "X_train,X_test,y_train,y_test=train_test_split(X,Y,test_size=0.3,random_state=0)\n",
        "#converting the dataset into proper LGB format \n",
        "d_train=lgb.Dataset(X_train, label=y_train)\n"
      ],
      "execution_count": 12,
      "outputs": []
    },
    {
      "cell_type": "code",
      "metadata": {
        "id": "6PF711UwwGZP"
      },
      "source": [
        "#Specifying the parameter\n",
        "params={}\n",
        "params['learning_rate']=0.03\n",
        "params['boosting_type']='gbdt' #GradientBoostingDecisionTree\n",
        "params['objective']='binary' #Binary target feature\n",
        "params['metric']='binary_logloss' #metric for binary classification\n",
        "params['max_depth']=10\n"
      ],
      "execution_count": 13,
      "outputs": []
    },
    {
      "cell_type": "code",
      "metadata": {
        "id": "cjKldnatwH_T"
      },
      "source": [
        "#train the model \n",
        "clf=lgb.train(params,d_train,100) #train the model on 100 epocs\n",
        "#prediction on the test set\n",
        "y_pred=clf.predict(X_test)"
      ],
      "execution_count": 14,
      "outputs": []
    },
    {
      "cell_type": "code",
      "metadata": {
        "colab": {
          "base_uri": "https://localhost:8080/"
        },
        "id": "COKPuL0lwS66",
        "outputId": "53f5e6d2-6120-4f39-e7c4-71cfb4380f43"
      },
      "source": [
        "y_pred"
      ],
      "execution_count": 15,
      "outputs": [
        {
          "output_type": "execute_result",
          "data": {
            "text/plain": [
              "array([0.04558262, 0.89328757, 0.97349586, 0.97226278, 0.950874  ,\n",
              "       0.97876953, 0.95831269, 0.97355183, 0.96665825, 0.98027443,\n",
              "       0.7094727 , 0.90783286, 0.97654697, 0.43162309, 0.63807738,\n",
              "       0.09929606, 0.8296492 , 0.0419679 , 0.03637466, 0.03421829,\n",
              "       0.04686364, 0.02978031, 0.95055774, 0.98082969, 0.0828938 ,\n",
              "       0.98130715, 0.9742735 , 0.09500685, 0.98142481, 0.03026079,\n",
              "       0.96705953, 0.05746838, 0.89511852, 0.03683434, 0.97315483,\n",
              "       0.03672333, 0.96623014, 0.04616655, 0.97856181, 0.03064718,\n",
              "       0.58327959, 0.97862488, 0.30777216, 0.9804951 , 0.73735896,\n",
              "       0.03519354, 0.97419924, 0.98136233, 0.96309108, 0.03195944,\n",
              "       0.03702482, 0.05499012, 0.0385526 , 0.98073855, 0.98293979,\n",
              "       0.97825674, 0.96130405, 0.88015634, 0.96691948, 0.03273147,\n",
              "       0.04593529, 0.03133421, 0.97752791, 0.98013865, 0.03963039,\n",
              "       0.87747093, 0.0309453 , 0.03124999, 0.03474911, 0.97882341,\n",
              "       0.85425376, 0.03055116, 0.98170011, 0.44655407, 0.06796879,\n",
              "       0.94531086, 0.9783907 , 0.85736852, 0.97474602, 0.97049996,\n",
              "       0.03977763, 0.0320247 , 0.03031205, 0.96604211, 0.05831917,\n",
              "       0.97468878, 0.97398714, 0.98157466, 0.03818049, 0.03081505,\n",
              "       0.9817498 , 0.41207484, 0.54172162, 0.04895834, 0.95971109,\n",
              "       0.98057094, 0.0306597 , 0.85345127, 0.97987608, 0.97953201,\n",
              "       0.97416287, 0.97036537, 0.9673244 , 0.87919332, 0.02989503,\n",
              "       0.92882684, 0.03050836, 0.92287839, 0.67521131, 0.1222856 ,\n",
              "       0.97588867, 0.02780787, 0.02663953, 0.85699032, 0.9806373 ,\n",
              "       0.96859754, 0.72225405, 0.97783206, 0.96782791, 0.98144926,\n",
              "       0.93452008, 0.96920305, 0.06030325, 0.94298679, 0.03404899,\n",
              "       0.55093641, 0.86128407, 0.97254512, 0.97803966, 0.9721738 ,\n",
              "       0.0306023 , 0.97787505, 0.97954772, 0.65113055, 0.91494082,\n",
              "       0.98089754, 0.79575528, 0.52705327, 0.03059195, 0.97883199,\n",
              "       0.97735461, 0.95990021, 0.03788261, 0.98165528, 0.96961845,\n",
              "       0.0354356 , 0.9679255 , 0.71401197, 0.97214715, 0.9733069 ,\n",
              "       0.97182799, 0.26202868, 0.73828693, 0.75569226, 0.979493  ,\n",
              "       0.03277613, 0.98376721, 0.32746729, 0.97733658, 0.031041  ,\n",
              "       0.03493971, 0.97812909, 0.72661947, 0.03879874, 0.98157269,\n",
              "       0.03033505, 0.08623049, 0.02833644, 0.9512456 , 0.97616948,\n",
              "       0.96402608])"
            ]
          },
          "metadata": {
            "tags": []
          },
          "execution_count": 15
        }
      ]
    }
  ]
}