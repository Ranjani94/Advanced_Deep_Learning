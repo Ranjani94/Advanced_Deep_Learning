{
  "nbformat": 4,
  "nbformat_minor": 0,
  "metadata": {
    "colab": {
      "name": "Low_level_Tensorflow.ipynb",
      "provenance": [],
      "authorship_tag": "ABX9TyMFImYkKE/rt1uSXWYbOdH2",
      "include_colab_link": true
    },
    "kernelspec": {
      "name": "python3",
      "display_name": "Python 3"
    },
    "accelerator": "GPU"
  },
  "cells": [
    {
      "cell_type": "markdown",
      "metadata": {
        "id": "view-in-github",
        "colab_type": "text"
      },
      "source": [
        "<a href=\"https://colab.research.google.com/github/Ranjani94/Advanced_Deep_Learning/blob/master/Assignment_2/Low_level_Tensorflow.ipynb\" target=\"_parent\"><img src=\"https://colab.research.google.com/assets/colab-badge.svg\" alt=\"Open In Colab\"/></a>"
      ]
    },
    {
      "cell_type": "markdown",
      "metadata": {
        "id": "sIz7qAzclNa0",
        "colab_type": "text"
      },
      "source": [
        "##GradientTape - Gradients and automation differentiation\n",
        "\n",
        "GradientTape is used to record all the computations of the Tensorflow during the forward pass and use that recording to reverse the opereation that is followed in forward pass in order to compute the gradients. This is termed as automatic differentiation between forward and backward pass by tensorflow which provides tf.gradientstape API. "
      ]
    },
    {
      "cell_type": "code",
      "metadata": {
        "id": "XrNGuUHWeYkp",
        "colab_type": "code",
        "colab": {
          "base_uri": "https://localhost:8080/",
          "height": 1000
        },
        "outputId": "47e0db1e-b54b-44af-8036-c2edaf8f1e13"
      },
      "source": [
        "!pip install tensorflow==2.0.0"
      ],
      "execution_count": 1,
      "outputs": [
        {
          "output_type": "stream",
          "text": [
            "Collecting tensorflow==2.0.0\n",
            "\u001b[?25l  Downloading https://files.pythonhosted.org/packages/46/0f/7bd55361168bb32796b360ad15a25de6966c9c1beb58a8e30c01c8279862/tensorflow-2.0.0-cp36-cp36m-manylinux2010_x86_64.whl (86.3MB)\n",
            "\u001b[K     |████████████████████████████████| 86.3MB 34kB/s \n",
            "\u001b[?25hRequirement already satisfied: numpy<2.0,>=1.16.0 in /usr/local/lib/python3.6/dist-packages (from tensorflow==2.0.0) (1.18.5)\n",
            "Collecting tensorflow-estimator<2.1.0,>=2.0.0\n",
            "\u001b[?25l  Downloading https://files.pythonhosted.org/packages/fc/08/8b927337b7019c374719145d1dceba21a8bb909b93b1ad6f8fb7d22c1ca1/tensorflow_estimator-2.0.1-py2.py3-none-any.whl (449kB)\n",
            "\u001b[K     |████████████████████████████████| 450kB 50.9MB/s \n",
            "\u001b[?25hRequirement already satisfied: termcolor>=1.1.0 in /usr/local/lib/python3.6/dist-packages (from tensorflow==2.0.0) (1.1.0)\n",
            "Requirement already satisfied: wrapt>=1.11.1 in /usr/local/lib/python3.6/dist-packages (from tensorflow==2.0.0) (1.12.1)\n",
            "Collecting keras-applications>=1.0.8\n",
            "\u001b[?25l  Downloading https://files.pythonhosted.org/packages/71/e3/19762fdfc62877ae9102edf6342d71b28fbfd9dea3d2f96a882ce099b03f/Keras_Applications-1.0.8-py3-none-any.whl (50kB)\n",
            "\u001b[K     |████████████████████████████████| 51kB 8.9MB/s \n",
            "\u001b[?25hRequirement already satisfied: keras-preprocessing>=1.0.5 in /usr/local/lib/python3.6/dist-packages (from tensorflow==2.0.0) (1.1.2)\n",
            "Requirement already satisfied: protobuf>=3.6.1 in /usr/local/lib/python3.6/dist-packages (from tensorflow==2.0.0) (3.12.4)\n",
            "Requirement already satisfied: grpcio>=1.8.6 in /usr/local/lib/python3.6/dist-packages (from tensorflow==2.0.0) (1.32.0)\n",
            "Requirement already satisfied: six>=1.10.0 in /usr/local/lib/python3.6/dist-packages (from tensorflow==2.0.0) (1.15.0)\n",
            "Requirement already satisfied: google-pasta>=0.1.6 in /usr/local/lib/python3.6/dist-packages (from tensorflow==2.0.0) (0.2.0)\n",
            "Collecting tensorboard<2.1.0,>=2.0.0\n",
            "\u001b[?25l  Downloading https://files.pythonhosted.org/packages/76/54/99b9d5d52d5cb732f099baaaf7740403e83fe6b0cedde940fabd2b13d75a/tensorboard-2.0.2-py3-none-any.whl (3.8MB)\n",
            "\u001b[K     |████████████████████████████████| 3.8MB 53.8MB/s \n",
            "\u001b[?25hRequirement already satisfied: opt-einsum>=2.3.2 in /usr/local/lib/python3.6/dist-packages (from tensorflow==2.0.0) (3.3.0)\n",
            "Requirement already satisfied: absl-py>=0.7.0 in /usr/local/lib/python3.6/dist-packages (from tensorflow==2.0.0) (0.10.0)\n",
            "Requirement already satisfied: astor>=0.6.0 in /usr/local/lib/python3.6/dist-packages (from tensorflow==2.0.0) (0.8.1)\n",
            "Collecting gast==0.2.2\n",
            "  Downloading https://files.pythonhosted.org/packages/4e/35/11749bf99b2d4e3cceb4d55ca22590b0d7c2c62b9de38ac4a4a7f4687421/gast-0.2.2.tar.gz\n",
            "Requirement already satisfied: wheel>=0.26 in /usr/local/lib/python3.6/dist-packages (from tensorflow==2.0.0) (0.35.1)\n",
            "Requirement already satisfied: h5py in /usr/local/lib/python3.6/dist-packages (from keras-applications>=1.0.8->tensorflow==2.0.0) (2.10.0)\n",
            "Requirement already satisfied: setuptools in /usr/local/lib/python3.6/dist-packages (from protobuf>=3.6.1->tensorflow==2.0.0) (50.3.0)\n",
            "Requirement already satisfied: markdown>=2.6.8 in /usr/local/lib/python3.6/dist-packages (from tensorboard<2.1.0,>=2.0.0->tensorflow==2.0.0) (3.2.2)\n",
            "Requirement already satisfied: google-auth<2,>=1.6.3 in /usr/local/lib/python3.6/dist-packages (from tensorboard<2.1.0,>=2.0.0->tensorflow==2.0.0) (1.17.2)\n",
            "Requirement already satisfied: requests<3,>=2.21.0 in /usr/local/lib/python3.6/dist-packages (from tensorboard<2.1.0,>=2.0.0->tensorflow==2.0.0) (2.23.0)\n",
            "Requirement already satisfied: werkzeug>=0.11.15 in /usr/local/lib/python3.6/dist-packages (from tensorboard<2.1.0,>=2.0.0->tensorflow==2.0.0) (1.0.1)\n",
            "Requirement already satisfied: google-auth-oauthlib<0.5,>=0.4.1 in /usr/local/lib/python3.6/dist-packages (from tensorboard<2.1.0,>=2.0.0->tensorflow==2.0.0) (0.4.1)\n",
            "Requirement already satisfied: importlib-metadata; python_version < \"3.8\" in /usr/local/lib/python3.6/dist-packages (from markdown>=2.6.8->tensorboard<2.1.0,>=2.0.0->tensorflow==2.0.0) (1.7.0)\n",
            "Requirement already satisfied: rsa<5,>=3.1.4; python_version >= \"3\" in /usr/local/lib/python3.6/dist-packages (from google-auth<2,>=1.6.3->tensorboard<2.1.0,>=2.0.0->tensorflow==2.0.0) (4.6)\n",
            "Requirement already satisfied: cachetools<5.0,>=2.0.0 in /usr/local/lib/python3.6/dist-packages (from google-auth<2,>=1.6.3->tensorboard<2.1.0,>=2.0.0->tensorflow==2.0.0) (4.1.1)\n",
            "Requirement already satisfied: pyasn1-modules>=0.2.1 in /usr/local/lib/python3.6/dist-packages (from google-auth<2,>=1.6.3->tensorboard<2.1.0,>=2.0.0->tensorflow==2.0.0) (0.2.8)\n",
            "Requirement already satisfied: idna<3,>=2.5 in /usr/local/lib/python3.6/dist-packages (from requests<3,>=2.21.0->tensorboard<2.1.0,>=2.0.0->tensorflow==2.0.0) (2.10)\n",
            "Requirement already satisfied: certifi>=2017.4.17 in /usr/local/lib/python3.6/dist-packages (from requests<3,>=2.21.0->tensorboard<2.1.0,>=2.0.0->tensorflow==2.0.0) (2020.6.20)\n",
            "Requirement already satisfied: urllib3!=1.25.0,!=1.25.1,<1.26,>=1.21.1 in /usr/local/lib/python3.6/dist-packages (from requests<3,>=2.21.0->tensorboard<2.1.0,>=2.0.0->tensorflow==2.0.0) (1.24.3)\n",
            "Requirement already satisfied: chardet<4,>=3.0.2 in /usr/local/lib/python3.6/dist-packages (from requests<3,>=2.21.0->tensorboard<2.1.0,>=2.0.0->tensorflow==2.0.0) (3.0.4)\n",
            "Requirement already satisfied: requests-oauthlib>=0.7.0 in /usr/local/lib/python3.6/dist-packages (from google-auth-oauthlib<0.5,>=0.4.1->tensorboard<2.1.0,>=2.0.0->tensorflow==2.0.0) (1.3.0)\n",
            "Requirement already satisfied: zipp>=0.5 in /usr/local/lib/python3.6/dist-packages (from importlib-metadata; python_version < \"3.8\"->markdown>=2.6.8->tensorboard<2.1.0,>=2.0.0->tensorflow==2.0.0) (3.1.0)\n",
            "Requirement already satisfied: pyasn1>=0.1.3 in /usr/local/lib/python3.6/dist-packages (from rsa<5,>=3.1.4; python_version >= \"3\"->google-auth<2,>=1.6.3->tensorboard<2.1.0,>=2.0.0->tensorflow==2.0.0) (0.4.8)\n",
            "Requirement already satisfied: oauthlib>=3.0.0 in /usr/local/lib/python3.6/dist-packages (from requests-oauthlib>=0.7.0->google-auth-oauthlib<0.5,>=0.4.1->tensorboard<2.1.0,>=2.0.0->tensorflow==2.0.0) (3.1.0)\n",
            "Building wheels for collected packages: gast\n",
            "  Building wheel for gast (setup.py) ... \u001b[?25l\u001b[?25hdone\n",
            "  Created wheel for gast: filename=gast-0.2.2-cp36-none-any.whl size=7542 sha256=10e7212a4ea3bbcb4d3efff7693aa49aab521ae2527bd04ece4020484388316e\n",
            "  Stored in directory: /root/.cache/pip/wheels/5c/2e/7e/a1d4d4fcebe6c381f378ce7743a3ced3699feb89bcfbdadadd\n",
            "Successfully built gast\n",
            "\u001b[31mERROR: tensorflow-probability 0.11.0 has requirement gast>=0.3.2, but you'll have gast 0.2.2 which is incompatible.\u001b[0m\n",
            "Installing collected packages: tensorflow-estimator, keras-applications, tensorboard, gast, tensorflow\n",
            "  Found existing installation: tensorflow-estimator 2.3.0\n",
            "    Uninstalling tensorflow-estimator-2.3.0:\n",
            "      Successfully uninstalled tensorflow-estimator-2.3.0\n",
            "  Found existing installation: tensorboard 2.3.0\n",
            "    Uninstalling tensorboard-2.3.0:\n",
            "      Successfully uninstalled tensorboard-2.3.0\n",
            "  Found existing installation: gast 0.3.3\n",
            "    Uninstalling gast-0.3.3:\n",
            "      Successfully uninstalled gast-0.3.3\n",
            "  Found existing installation: tensorflow 2.3.0\n",
            "    Uninstalling tensorflow-2.3.0:\n",
            "      Successfully uninstalled tensorflow-2.3.0\n",
            "Successfully installed gast-0.2.2 keras-applications-1.0.8 tensorboard-2.0.2 tensorflow-2.0.0 tensorflow-estimator-2.0.1\n"
          ],
          "name": "stdout"
        }
      ]
    },
    {
      "cell_type": "code",
      "metadata": {
        "id": "bDH-p3E5muKn",
        "colab_type": "code",
        "colab": {
          "base_uri": "https://localhost:8080/",
          "height": 34
        },
        "outputId": "f7212bbe-097a-463f-dffa-3694fdd22be0"
      },
      "source": [
        "import tensorflow as tf\n",
        "print(tf.__version__)"
      ],
      "execution_count": 2,
      "outputs": [
        {
          "output_type": "stream",
          "text": [
            "2.0.0\n"
          ],
          "name": "stdout"
        }
      ]
    },
    {
      "cell_type": "markdown",
      "metadata": {
        "id": "ALn44rOznCV0",
        "colab_type": "text"
      },
      "source": [
        "###A simple example of mathematics operation using tensorflow"
      ]
    },
    {
      "cell_type": "code",
      "metadata": {
        "id": "uKviPZD8nBJQ",
        "colab_type": "code",
        "colab": {
          "base_uri": "https://localhost:8080/",
          "height": 68
        },
        "outputId": "31f2e408-ac9f-4449-d3d4-461e3030cda9"
      },
      "source": [
        "#Tensor array\n",
        "x = tf.constant([[5, 2], [1, 3]])\n",
        "print(x)"
      ],
      "execution_count": 3,
      "outputs": [
        {
          "output_type": "stream",
          "text": [
            "tf.Tensor(\n",
            "[[5 2]\n",
            " [1 3]], shape=(2, 2), dtype=int32)\n"
          ],
          "name": "stdout"
        }
      ]
    },
    {
      "cell_type": "code",
      "metadata": {
        "id": "pEL3hS3wnlmW",
        "colab_type": "code",
        "colab": {
          "base_uri": "https://localhost:8080/",
          "height": 51
        },
        "outputId": "5fa6723a-fb5d-4d1d-fc25-c791b12a1987"
      },
      "source": [
        "#Numpy array\n",
        "x.numpy()"
      ],
      "execution_count": 4,
      "outputs": [
        {
          "output_type": "execute_result",
          "data": {
            "text/plain": [
              "array([[5, 2],\n",
              "       [1, 3]], dtype=int32)"
            ]
          },
          "metadata": {
            "tags": []
          },
          "execution_count": 4
        }
      ]
    },
    {
      "cell_type": "code",
      "metadata": {
        "id": "eGg6GiVennVI",
        "colab_type": "code",
        "colab": {
          "base_uri": "https://localhost:8080/",
          "height": 34
        },
        "outputId": "cacee328-8332-4fdb-8d4b-0e8b3f51dccf"
      },
      "source": [
        "x.dtype #data type"
      ],
      "execution_count": 5,
      "outputs": [
        {
          "output_type": "execute_result",
          "data": {
            "text/plain": [
              "tf.int32"
            ]
          },
          "metadata": {
            "tags": []
          },
          "execution_count": 5
        }
      ]
    },
    {
      "cell_type": "code",
      "metadata": {
        "id": "fawSoXrOnu0e",
        "colab_type": "code",
        "colab": {
          "base_uri": "https://localhost:8080/",
          "height": 34
        },
        "outputId": "2eab3f3a-a962-434f-f837-c5a053648aeb"
      },
      "source": [
        "x.shape #shape of an array"
      ],
      "execution_count": 6,
      "outputs": [
        {
          "output_type": "execute_result",
          "data": {
            "text/plain": [
              "TensorShape([2, 2])"
            ]
          },
          "metadata": {
            "tags": []
          },
          "execution_count": 6
        }
      ]
    },
    {
      "cell_type": "code",
      "metadata": {
        "id": "_daZbbzunw5X",
        "colab_type": "code",
        "colab": {
          "base_uri": "https://localhost:8080/",
          "height": 119
        },
        "outputId": "f58f7971-eb76-4f04-80ad-1130893a1c53"
      },
      "source": [
        "#Creating constant tensors\n",
        "print(tf.ones(shape=(2, 1)))\n",
        "print(tf.zeros(shape=(2, 1)))"
      ],
      "execution_count": 7,
      "outputs": [
        {
          "output_type": "stream",
          "text": [
            "tf.Tensor(\n",
            "[[1.]\n",
            " [1.]], shape=(2, 1), dtype=float32)\n",
            "tf.Tensor(\n",
            "[[0.]\n",
            " [0.]], shape=(2, 1), dtype=float32)\n"
          ],
          "name": "stdout"
        }
      ]
    },
    {
      "cell_type": "markdown",
      "metadata": {
        "id": "mfw15e9foZDv",
        "colab_type": "text"
      },
      "source": [
        "###To randomly create constant tensors"
      ]
    },
    {
      "cell_type": "code",
      "metadata": {
        "id": "6bT83yFtoILQ",
        "colab_type": "code",
        "colab": {
          "base_uri": "https://localhost:8080/",
          "height": 68
        },
        "outputId": "213e8248-0e45-4a73-8796-827e4b5b1b11"
      },
      "source": [
        "tf.random.normal(shape=(2, 2), mean=0., stddev=1.)"
      ],
      "execution_count": 8,
      "outputs": [
        {
          "output_type": "execute_result",
          "data": {
            "text/plain": [
              "<tf.Tensor: id=12, shape=(2, 2), dtype=float32, numpy=\n",
              "array([[-1.4573668 , -0.95970184],\n",
              "       [ 0.6092333 ,  1.1156116 ]], dtype=float32)>"
            ]
          },
          "metadata": {
            "tags": []
          },
          "execution_count": 8
        }
      ]
    },
    {
      "cell_type": "code",
      "metadata": {
        "id": "SloMUlJBod15",
        "colab_type": "code",
        "colab": {
          "base_uri": "https://localhost:8080/",
          "height": 68
        },
        "outputId": "423774c9-00aa-4695-90d3-aa76e8314bc3"
      },
      "source": [
        "#creating random integer tensor\n",
        "tf.random.uniform(shape=(2, 2), minval=0, maxval=10, dtype='int32')"
      ],
      "execution_count": 9,
      "outputs": [
        {
          "output_type": "execute_result",
          "data": {
            "text/plain": [
              "<tf.Tensor: id=16, shape=(2, 2), dtype=int32, numpy=\n",
              "array([[3, 8],\n",
              "       [3, 8]], dtype=int32)>"
            ]
          },
          "metadata": {
            "tags": []
          },
          "execution_count": 9
        }
      ]
    },
    {
      "cell_type": "markdown",
      "metadata": {
        "id": "JBWwPbMAo9DC",
        "colab_type": "text"
      },
      "source": [
        "###To create a mutable variables in tensor in order to adjust the variables in gradients computation like updating weights"
      ]
    },
    {
      "cell_type": "code",
      "metadata": {
        "id": "cGFv1D6Loxg5",
        "colab_type": "code",
        "colab": {
          "base_uri": "https://localhost:8080/",
          "height": 68
        },
        "outputId": "95cc08e4-16cc-4ded-b780-dafd377705ff"
      },
      "source": [
        "initial_value = tf.random.normal(shape=(2, 2))\n",
        "a = tf.Variable(initial_value)\n",
        "print(a)\n"
      ],
      "execution_count": 10,
      "outputs": [
        {
          "output_type": "stream",
          "text": [
            "<tf.Variable 'Variable:0' shape=(2, 2) dtype=float32, numpy=\n",
            "array([[ 1.5082222 , -0.24706121],\n",
            "       [-0.42037594, -2.4402618 ]], dtype=float32)>\n"
          ],
          "name": "stdout"
        }
      ]
    },
    {
      "cell_type": "markdown",
      "metadata": {
        "id": "7Bly3PcMpXO3",
        "colab_type": "text"
      },
      "source": [
        "###Updating the value of the variable by using the methods"
      ]
    },
    {
      "cell_type": "code",
      "metadata": {
        "id": "rmGUCrJmpWu4",
        "colab_type": "code",
        "colab": {}
      },
      "source": [
        "new_value = tf.random.normal(shape=(2, 2))\n",
        "a.assign(new_value)\n",
        "for i in range(2):\n",
        "  for j in range(2):\n",
        "    assert a[i, j] == new_value[i, j]"
      ],
      "execution_count": 11,
      "outputs": []
    },
    {
      "cell_type": "markdown",
      "metadata": {
        "id": "3_w28Qyqp6hI",
        "colab_type": "text"
      },
      "source": [
        "###Math operation in tensorflow"
      ]
    },
    {
      "cell_type": "code",
      "metadata": {
        "id": "r2Q-ZsfupiSE",
        "colab_type": "code",
        "colab": {
          "base_uri": "https://localhost:8080/",
          "height": 119
        },
        "outputId": "7a4cf864-be42-4333-b266-c4551584312d"
      },
      "source": [
        "a = tf.random.normal(shape=(2, 2))\n",
        "b = tf.random.normal(shape=(2, 2))\n",
        "print(a)\n",
        "print(b)\n",
        "c = a + b\n",
        "d = tf.square(c)\n",
        "e = tf.exp(d)"
      ],
      "execution_count": 12,
      "outputs": [
        {
          "output_type": "stream",
          "text": [
            "tf.Tensor(\n",
            "[[ 0.31420308 -0.04560246]\n",
            " [-1.4120841  -0.9994091 ]], shape=(2, 2), dtype=float32)\n",
            "tf.Tensor(\n",
            "[[-0.08870656  0.97376335]\n",
            " [ 0.554469   -1.1829296 ]], shape=(2, 2), dtype=float32)\n"
          ],
          "name": "stdout"
        }
      ]
    },
    {
      "cell_type": "code",
      "metadata": {
        "id": "zW8n6QamqB2e",
        "colab_type": "code",
        "colab": {
          "base_uri": "https://localhost:8080/",
          "height": 68
        },
        "outputId": "3b67fa0d-2954-44b6-e287-00af29ba0170"
      },
      "source": [
        "c #addition"
      ],
      "execution_count": 13,
      "outputs": [
        {
          "output_type": "execute_result",
          "data": {
            "text/plain": [
              "<tf.Tensor: id=89, shape=(2, 2), dtype=float32, numpy=\n",
              "array([[ 0.22549653,  0.9281609 ],\n",
              "       [-0.8576151 , -2.1823387 ]], dtype=float32)>"
            ]
          },
          "metadata": {
            "tags": []
          },
          "execution_count": 13
        }
      ]
    },
    {
      "cell_type": "code",
      "metadata": {
        "id": "61y0jf8OqCXE",
        "colab_type": "code",
        "colab": {
          "base_uri": "https://localhost:8080/",
          "height": 68
        },
        "outputId": "311eb6b8-1718-402f-ab56-ec2c73f6fb59"
      },
      "source": [
        "d #squaring the values"
      ],
      "execution_count": 14,
      "outputs": [
        {
          "output_type": "execute_result",
          "data": {
            "text/plain": [
              "<tf.Tensor: id=90, shape=(2, 2), dtype=float32, numpy=\n",
              "array([[0.05084869, 0.8614827 ],\n",
              "       [0.7355037 , 4.7626023 ]], dtype=float32)>"
            ]
          },
          "metadata": {
            "tags": []
          },
          "execution_count": 14
        }
      ]
    },
    {
      "cell_type": "code",
      "metadata": {
        "id": "Lqqsg1YfqI6O",
        "colab_type": "code",
        "colab": {
          "base_uri": "https://localhost:8080/",
          "height": 68
        },
        "outputId": "84a4f03b-74a1-42ee-969f-0795dc25e83d"
      },
      "source": [
        "e #computing exponent"
      ],
      "execution_count": 15,
      "outputs": [
        {
          "output_type": "execute_result",
          "data": {
            "text/plain": [
              "<tf.Tensor: id=91, shape=(2, 2), dtype=float32, numpy=\n",
              "array([[  1.0521637,   2.366667 ],\n",
              "       [  2.0865326, 117.05013  ]], dtype=float32)>"
            ]
          },
          "metadata": {
            "tags": []
          },
          "execution_count": 15
        }
      ]
    },
    {
      "cell_type": "markdown",
      "metadata": {
        "id": "pSsY50nwqUeH",
        "colab_type": "text"
      },
      "source": [
        "###Example to compute gradients using GradienTape"
      ]
    },
    {
      "cell_type": "code",
      "metadata": {
        "id": "1S33BO_HqKim",
        "colab_type": "code",
        "colab": {
          "base_uri": "https://localhost:8080/",
          "height": 68
        },
        "outputId": "b5c1c9f3-8251-4cad-a88d-008238896b9a"
      },
      "source": [
        "a = tf.random.normal(shape=(2, 2))\n",
        "b = tf.random.normal(shape=(2, 2))\n",
        "\n",
        "#records all the operation associated with a variable\n",
        "with tf.GradientTape() as tape:\n",
        "  tape.watch(a)  \n",
        "  c = tf.sqrt(tf.square(a) + tf.square(b))  #Mathematical operation\n",
        "  \n",
        "  dc_da = tape.gradient(c, a) #computes the gradient c with respect to a\n",
        "  print(dc_da)\n",
        "\n",
        "\n",
        "  #By default all the variables are watched, there is no need to mention them"
      ],
      "execution_count": 16,
      "outputs": [
        {
          "output_type": "stream",
          "text": [
            "tf.Tensor(\n",
            "[[-0.99783295  0.39823732]\n",
            " [ 0.4718664  -0.9922882 ]], shape=(2, 2), dtype=float32)\n"
          ],
          "name": "stdout"
        }
      ]
    },
    {
      "cell_type": "markdown",
      "metadata": {
        "id": "SDy-HG4Nq_Jl",
        "colab_type": "text"
      },
      "source": [
        "###To compute higher order derivatives, we can use the nesting tapes"
      ]
    },
    {
      "cell_type": "code",
      "metadata": {
        "id": "bA756e24rm3O",
        "colab_type": "code",
        "colab": {
          "base_uri": "https://localhost:8080/",
          "height": 68
        },
        "outputId": "8838f8df-a3dd-410a-f80c-befdb05c0273"
      },
      "source": [
        "a = tf.Variable(a)\n",
        "\n",
        "with tf.GradientTape() as tape:\n",
        "  c = tf.sqrt(tf.square(a) + tf.square(b))\n",
        "  dc_da = tape.gradient(c, a)\n",
        "  print(dc_da)"
      ],
      "execution_count": 17,
      "outputs": [
        {
          "output_type": "stream",
          "text": [
            "tf.Tensor(\n",
            "[[-0.99783295  0.39823732]\n",
            " [ 0.4718664  -0.9922882 ]], shape=(2, 2), dtype=float32)\n"
          ],
          "name": "stdout"
        }
      ]
    },
    {
      "cell_type": "code",
      "metadata": {
        "id": "Q6QUpOZEqwqD",
        "colab_type": "code",
        "colab": {
          "base_uri": "https://localhost:8080/",
          "height": 68
        },
        "outputId": "881113de-8b4d-4aba-91e4-827dbfaf21db"
      },
      "source": [
        "with tf.GradientTape() as outer_tape:\n",
        "  with tf.GradientTape() as tape:\n",
        "    c = tf.sqrt(tf.square(a) + tf.square(b))\n",
        "    dc_da = tape.gradient(c, a)\n",
        "  d2c_da2 = outer_tape.gradient(dc_da, a)\n",
        "  print(d2c_da2)"
      ],
      "execution_count": 18,
      "outputs": [
        {
          "output_type": "stream",
          "text": [
            "tf.Tensor(\n",
            "[[0.0043776  1.8991182 ]\n",
            " [0.4736342  0.05569267]], shape=(2, 2), dtype=float32)\n"
          ],
          "name": "stdout"
        }
      ]
    },
    {
      "cell_type": "markdown",
      "metadata": {
        "id": "PmbhxuGUr8m8",
        "colab_type": "text"
      },
      "source": [
        "###Computing Linear Classifier using gradientTape and low level tensorflow"
      ]
    },
    {
      "cell_type": "code",
      "metadata": {
        "id": "N8Ac0l5lrLQ6",
        "colab_type": "code",
        "colab": {}
      },
      "source": [
        "input_dim = 2\n",
        "output_dim = 1\n",
        "learning_rate = 0.01\n",
        "\n",
        "# This is our weight matrix\n",
        "w = tf.Variable(tf.random.uniform(shape=(input_dim, output_dim)))\n",
        "# This is our bias vector\n",
        "b = tf.Variable(tf.zeros(shape=(output_dim,)))\n",
        "\n",
        "def compute_predictions(features):\n",
        "  return tf.matmul(features, w) + b\n",
        "\n",
        "def compute_loss(labels, predictions):\n",
        "  return tf.reduce_mean(tf.square(labels - predictions))\n",
        "\n",
        "def train_on_batch(x, y):\n",
        "  with tf.GradientTape() as tape:\n",
        "    predictions = compute_predictions(x)\n",
        "    loss = compute_loss(y, predictions)\n",
        "    # Note that `tape.gradient` works with a list as well (w, b).\n",
        "    dloss_dw, dloss_db = tape.gradient(loss, [w, b])\n",
        "  w.assign_sub(learning_rate * dloss_dw)\n",
        "  b.assign_sub(learning_rate * dloss_db)\n",
        "  return loss"
      ],
      "execution_count": 19,
      "outputs": []
    },
    {
      "cell_type": "code",
      "metadata": {
        "id": "4qYzvwSytSKD",
        "colab_type": "code",
        "colab": {
          "base_uri": "https://localhost:8080/",
          "height": 282
        },
        "outputId": "86f254d1-6951-4281-d953-f2d40ba4d342"
      },
      "source": [
        "#generating artificial data in order to demostrate the model\n",
        "import numpy as np\n",
        "import random\n",
        "import matplotlib.pyplot as plt\n",
        "%matplotlib inline\n",
        "\n",
        "# Prepare a dataset.\n",
        "num_samples = 10000\n",
        "negative_samples = np.random.multivariate_normal(\n",
        "    mean=[0, 3], cov=[[1, 0.5],[0.5, 1]], size=num_samples)\n",
        "positive_samples = np.random.multivariate_normal(\n",
        "    mean=[3, 0], cov=[[1, 0.5],[0.5, 1]], size=num_samples)\n",
        "features = np.vstack((negative_samples, positive_samples)).astype(np.float32)\n",
        "labels = np.vstack((np.zeros((num_samples, 1), dtype='float32'),\n",
        "                    np.ones((num_samples, 1), dtype='float32')))\n",
        "\n",
        "plt.scatter(features[:, 0], features[:, 1], c=labels[:, 0])"
      ],
      "execution_count": 20,
      "outputs": [
        {
          "output_type": "execute_result",
          "data": {
            "text/plain": [
              "<matplotlib.collections.PathCollection at 0x7fbe31ee8320>"
            ]
          },
          "metadata": {
            "tags": []
          },
          "execution_count": 20
        },
        {
          "output_type": "display_data",
          "data": {
            "image/png": "[encoded data removed]",
            "text/plain": [
              "<Figure size 432x288 with 1 Axes>"
            ]
          },
          "metadata": {
            "tags": [],
            "needs_background": "light"
          }
        }
      ]
    },
    {
      "cell_type": "code",
      "metadata": {
        "id": "1l-w0K-KtgZp",
        "colab_type": "code",
        "colab": {
          "base_uri": "https://localhost:8080/",
          "height": 357
        },
        "outputId": "85271bfe-5ae8-4b04-ce73-51e44b82ab12"
      },
      "source": [
        "# Shuffle the data.\n",
        "indices = np.random.permutation(len(features))\n",
        "features = features[indices]\n",
        "labels = labels[indices]\n",
        "\n",
        "# Create a tf.data.Dataset object for easy batched iteration\n",
        "dataset = tf.data.Dataset.from_tensor_slices((features, labels))\n",
        "dataset = dataset.shuffle(buffer_size=1024).batch(256)\n",
        "\n",
        "for epoch in range(20):\n",
        "  for step, (x, y) in enumerate(dataset):\n",
        "    loss = train_on_batch(x, y)\n",
        "  print('Epoch %d: last batch loss = %.4f' % (epoch, float(loss)))"
      ],
      "execution_count": 21,
      "outputs": [
        {
          "output_type": "stream",
          "text": [
            "Epoch 0: last batch loss = 0.0428\n",
            "Epoch 1: last batch loss = 0.0344\n",
            "Epoch 2: last batch loss = 0.0238\n",
            "Epoch 3: last batch loss = 0.0223\n",
            "Epoch 4: last batch loss = 0.0194\n",
            "Epoch 5: last batch loss = 0.0240\n",
            "Epoch 6: last batch loss = 0.0188\n",
            "Epoch 7: last batch loss = 0.0272\n",
            "Epoch 8: last batch loss = 0.0252\n",
            "Epoch 9: last batch loss = 0.0301\n",
            "Epoch 10: last batch loss = 0.0178\n",
            "Epoch 11: last batch loss = 0.0356\n",
            "Epoch 12: last batch loss = 0.0242\n",
            "Epoch 13: last batch loss = 0.0254\n",
            "Epoch 14: last batch loss = 0.0292\n",
            "Epoch 15: last batch loss = 0.0306\n",
            "Epoch 16: last batch loss = 0.0222\n",
            "Epoch 17: last batch loss = 0.0177\n",
            "Epoch 18: last batch loss = 0.0215\n",
            "Epoch 19: last batch loss = 0.0294\n"
          ],
          "name": "stdout"
        }
      ]
    },
    {
      "cell_type": "code",
      "metadata": {
        "id": "zOazSkN5txjh",
        "colab_type": "code",
        "colab": {
          "base_uri": "https://localhost:8080/",
          "height": 282
        },
        "outputId": "7d3f8d85-6271-4bf9-d511-467da2c65013"
      },
      "source": [
        "#Show model performance\n",
        "predictions = compute_predictions(features)\n",
        "plt.scatter(features[:, 0], features[:, 1], c=predictions[:, 0] > 0.5)"
      ],
      "execution_count": 22,
      "outputs": [
        {
          "output_type": "execute_result",
          "data": {
            "text/plain": [
              "<matplotlib.collections.PathCollection at 0x7fbe309dcba8>"
            ]
          },
          "metadata": {
            "tags": []
          },
          "execution_count": 22
        },
        {
          "output_type": "display_data",
          "data": {
            "image/png": "[encoded data removed]",
            "text/plain": [
              "<Figure size 432x288 with 1 Axes>"
            ]
          },
          "metadata": {
            "tags": [],
            "needs_background": "light"
          }
        }
      ]
    },
    {
      "cell_type": "markdown",
      "metadata": {
        "id": "dJtgVMsh-lva",
        "colab_type": "text"
      },
      "source": [
        "###Linear Classifier"
      ]
    },
    {
      "cell_type": "code",
      "metadata": {
        "id": "YFr991nC9XcX",
        "colab_type": "code",
        "colab": {
          "base_uri": "https://localhost:8080/",
          "height": 282
        },
        "outputId": "8750ca99-373f-477a-a093-0ddb5c52f22a"
      },
      "source": [
        "num_samples_per_class = 1000\n",
        "negative_samples = np.random.multivariate_normal(\n",
        "    mean=[0, 3], cov=[[1, 0.5],[0.5, 1]], size=num_samples_per_class)\n",
        "positive_samples = np.random.multivariate_normal(\n",
        "    mean=[3, 0], cov=[[1, 0.5],[0.5, 1]], size=num_samples_per_class)\n",
        "inputs = np.vstack((negative_samples, positive_samples)).astype(np.float32)\n",
        "targets = np.vstack((np.zeros((num_samples_per_class, 1), dtype='float32'),\n",
        "                     np.ones((num_samples_per_class, 1), dtype='float32')))\n",
        "plt.scatter(features[:, 0], features[:, 1], c=labels[:, 0])"
      ],
      "execution_count": 50,
      "outputs": [
        {
          "output_type": "execute_result",
          "data": {
            "text/plain": [
              "<matplotlib.collections.PathCollection at 0x7fbe2f667048>"
            ]
          },
          "metadata": {
            "tags": []
          },
          "execution_count": 50
        },
        {
          "output_type": "display_data",
          "data": {
            "image/png": "[encoded data removed]",
            "text/plain": [
              "<Figure size 432x288 with 1 Axes>"
            ]
          },
          "metadata": {
            "tags": [],
            "needs_background": "light"
          }
        }
      ]
    },
    {
      "cell_type": "code",
      "metadata": {
        "id": "y73yTWaF9htA",
        "colab_type": "code",
        "colab": {}
      },
      "source": [
        "input_dim = 2\n",
        "output_dim = 1\n",
        "W = tf.Variable(initial_value=tf.random.uniform(shape=(input_dim, output_dim)))\n",
        "b = tf.Variable(initial_value=tf.zeros(shape=(output_dim,)))\n"
      ],
      "execution_count": 51,
      "outputs": []
    },
    {
      "cell_type": "code",
      "metadata": {
        "id": "IRc0guDZ9i47",
        "colab_type": "code",
        "colab": {}
      },
      "source": [
        "def model(inputs):\n",
        "    return tf.matmul(inputs, W) + b\n"
      ],
      "execution_count": 52,
      "outputs": []
    },
    {
      "cell_type": "code",
      "metadata": {
        "id": "SdyHAI2V9jWz",
        "colab_type": "code",
        "colab": {}
      },
      "source": [
        "def square_loss(targets, predictions):\n",
        "    per_sample_losses = tf.square(targets - predictions)\n",
        "    return tf.reduce_mean(per_sample_losses)\n"
      ],
      "execution_count": 53,
      "outputs": []
    },
    {
      "cell_type": "code",
      "metadata": {
        "id": "u9Vkc4rD9ivn",
        "colab_type": "code",
        "colab": {}
      },
      "source": [
        "def training_step(inputs, targets):\n",
        "    with tf.GradientTape() as tape:\n",
        "        predictions = model(inputs)\n",
        "        loss = square_loss(predictions, targets)\n",
        "    grad_loss_wrt_W, grad_loss_wrt_b = tape.gradient(loss, [W, b])\n",
        "    W.assign_sub(grad_loss_wrt_W * learning_rate)\n",
        "    b.assign_sub(grad_loss_wrt_b * learning_rate)\n",
        "    return loss\n"
      ],
      "execution_count": 54,
      "outputs": []
    },
    {
      "cell_type": "code",
      "metadata": {
        "id": "wTcgmpMz9r3f",
        "colab_type": "code",
        "colab": {
          "base_uri": "https://localhost:8080/",
          "height": 1000
        },
        "outputId": "d8a3dec3-3b8c-4cbb-d177-12a51f85f22c"
      },
      "source": [
        "for step in range(1000):\n",
        "    loss = training_step(inputs, targets)\n",
        "    print('Loss at step %d: %.4f' % (step, loss))"
      ],
      "execution_count": 67,
      "outputs": [
        {
          "output_type": "stream",
          "text": [
            "Loss at step 0: 0.0248\n",
            "Loss at step 1: 0.0248\n",
            "Loss at step 2: 0.0248\n",
            "Loss at step 3: 0.0248\n",
            "Loss at step 4: 0.0248\n",
            "Loss at step 5: 0.0248\n",
            "Loss at step 6: 0.0248\n",
            "Loss at step 7: 0.0248\n",
            "Loss at step 8: 0.0248\n",
            "Loss at step 9: 0.0248\n",
            "Loss at step 10: 0.0248\n",
            "Loss at step 11: 0.0248\n",
            "Loss at step 12: 0.0248\n",
            "Loss at step 13: 0.0248\n",
            "Loss at step 14: 0.0248\n",
            "Loss at step 15: 0.0248\n",
            "Loss at step 16: 0.0248\n",
            "Loss at step 17: 0.0248\n",
            "Loss at step 18: 0.0248\n",
            "Loss at step 19: 0.0248\n",
            "Loss at step 20: 0.0248\n",
            "Loss at step 21: 0.0248\n",
            "Loss at step 22: 0.0248\n",
            "Loss at step 23: 0.0248\n",
            "Loss at step 24: 0.0248\n",
            "Loss at step 25: 0.0248\n",
            "Loss at step 26: 0.0248\n",
            "Loss at step 27: 0.0248\n",
            "Loss at step 28: 0.0248\n",
            "Loss at step 29: 0.0248\n",
            "Loss at step 30: 0.0248\n",
            "Loss at step 31: 0.0248\n",
            "Loss at step 32: 0.0248\n",
            "Loss at step 33: 0.0248\n",
            "Loss at step 34: 0.0248\n",
            "Loss at step 35: 0.0248\n",
            "Loss at step 36: 0.0248\n",
            "Loss at step 37: 0.0248\n",
            "Loss at step 38: 0.0248\n",
            "Loss at step 39: 0.0248\n",
            "Loss at step 40: 0.0248\n",
            "Loss at step 41: 0.0248\n",
            "Loss at step 42: 0.0248\n",
            "Loss at step 43: 0.0248\n",
            "Loss at step 44: 0.0248\n",
            "Loss at step 45: 0.0248\n",
            "Loss at step 46: 0.0248\n",
            "Loss at step 47: 0.0248\n",
            "Loss at step 48: 0.0248\n",
            "Loss at step 49: 0.0248\n",
            "Loss at step 50: 0.0248\n",
            "Loss at step 51: 0.0248\n",
            "Loss at step 52: 0.0248\n",
            "Loss at step 53: 0.0248\n",
            "Loss at step 54: 0.0248\n",
            "Loss at step 55: 0.0248\n",
            "Loss at step 56: 0.0248\n",
            "Loss at step 57: 0.0248\n",
            "Loss at step 58: 0.0248\n",
            "Loss at step 59: 0.0248\n",
            "Loss at step 60: 0.0248\n",
            "Loss at step 61: 0.0248\n",
            "Loss at step 62: 0.0248\n",
            "Loss at step 63: 0.0248\n",
            "Loss at step 64: 0.0248\n",
            "Loss at step 65: 0.0248\n",
            "Loss at step 66: 0.0248\n",
            "Loss at step 67: 0.0248\n",
            "Loss at step 68: 0.0248\n",
            "Loss at step 69: 0.0248\n",
            "Loss at step 70: 0.0248\n",
            "Loss at step 71: 0.0248\n",
            "Loss at step 72: 0.0248\n",
            "Loss at step 73: 0.0248\n",
            "Loss at step 74: 0.0248\n",
            "Loss at step 75: 0.0248\n",
            "Loss at step 76: 0.0248\n",
            "Loss at step 77: 0.0248\n",
            "Loss at step 78: 0.0248\n",
            "Loss at step 79: 0.0248\n",
            "Loss at step 80: 0.0248\n",
            "Loss at step 81: 0.0248\n",
            "Loss at step 82: 0.0248\n",
            "Loss at step 83: 0.0248\n",
            "Loss at step 84: 0.0248\n",
            "Loss at step 85: 0.0248\n",
            "Loss at step 86: 0.0248\n",
            "Loss at step 87: 0.0248\n",
            "Loss at step 88: 0.0248\n",
            "Loss at step 89: 0.0248\n",
            "Loss at step 90: 0.0248\n",
            "Loss at step 91: 0.0248\n",
            "Loss at step 92: 0.0248\n",
            "Loss at step 93: 0.0248\n",
            "Loss at step 94: 0.0248\n",
            "Loss at step 95: 0.0248\n",
            "Loss at step 96: 0.0248\n",
            "Loss at step 97: 0.0248\n",
            "Loss at step 98: 0.0248\n",
            "Loss at step 99: 0.0248\n",
            "Loss at step 100: 0.0248\n",
            "Loss at step 101: 0.0248\n",
            "Loss at step 102: 0.0248\n",
            "Loss at step 103: 0.0248\n",
            "Loss at step 104: 0.0248\n",
            "Loss at step 105: 0.0248\n",
            "Loss at step 106: 0.0248\n",
            "Loss at step 107: 0.0248\n",
            "Loss at step 108: 0.0248\n",
            "Loss at step 109: 0.0248\n",
            "Loss at step 110: 0.0248\n",
            "Loss at step 111: 0.0248\n",
            "Loss at step 112: 0.0248\n",
            "Loss at step 113: 0.0248\n",
            "Loss at step 114: 0.0248\n",
            "Loss at step 115: 0.0248\n",
            "Loss at step 116: 0.0248\n",
            "Loss at step 117: 0.0248\n",
            "Loss at step 118: 0.0248\n",
            "Loss at step 119: 0.0248\n",
            "Loss at step 120: 0.0248\n",
            "Loss at step 121: 0.0248\n",
            "Loss at step 122: 0.0248\n",
            "Loss at step 123: 0.0248\n",
            "Loss at step 124: 0.0248\n",
            "Loss at step 125: 0.0248\n",
            "Loss at step 126: 0.0248\n",
            "Loss at step 127: 0.0248\n",
            "Loss at step 128: 0.0248\n",
            "Loss at step 129: 0.0248\n",
            "Loss at step 130: 0.0248\n",
            "Loss at step 131: 0.0248\n",
            "Loss at step 132: 0.0248\n",
            "Loss at step 133: 0.0248\n",
            "Loss at step 134: 0.0248\n",
            "Loss at step 135: 0.0248\n",
            "Loss at step 136: 0.0248\n",
            "Loss at step 137: 0.0248\n",
            "Loss at step 138: 0.0248\n",
            "Loss at step 139: 0.0248\n",
            "Loss at step 140: 0.0248\n",
            "Loss at step 141: 0.0248\n",
            "Loss at step 142: 0.0248\n",
            "Loss at step 143: 0.0248\n",
            "Loss at step 144: 0.0248\n",
            "Loss at step 145: 0.0248\n",
            "Loss at step 146: 0.0248\n",
            "Loss at step 147: 0.0248\n",
            "Loss at step 148: 0.0248\n",
            "Loss at step 149: 0.0248\n",
            "Loss at step 150: 0.0248\n",
            "Loss at step 151: 0.0248\n",
            "Loss at step 152: 0.0248\n",
            "Loss at step 153: 0.0248\n",
            "Loss at step 154: 0.0248\n",
            "Loss at step 155: 0.0248\n",
            "Loss at step 156: 0.0248\n",
            "Loss at step 157: 0.0248\n",
            "Loss at step 158: 0.0248\n",
            "Loss at step 159: 0.0248\n",
            "Loss at step 160: 0.0248\n",
            "Loss at step 161: 0.0248\n",
            "Loss at step 162: 0.0248\n",
            "Loss at step 163: 0.0248\n",
            "Loss at step 164: 0.0248\n",
            "Loss at step 165: 0.0248\n",
            "Loss at step 166: 0.0248\n",
            "Loss at step 167: 0.0248\n",
            "Loss at step 168: 0.0248\n",
            "Loss at step 169: 0.0248\n",
            "Loss at step 170: 0.0248\n",
            "Loss at step 171: 0.0248\n",
            "Loss at step 172: 0.0248\n",
            "Loss at step 173: 0.0248\n",
            "Loss at step 174: 0.0248\n",
            "Loss at step 175: 0.0248\n",
            "Loss at step 176: 0.0248\n",
            "Loss at step 177: 0.0248\n",
            "Loss at step 178: 0.0248\n",
            "Loss at step 179: 0.0248\n",
            "Loss at step 180: 0.0248\n",
            "Loss at step 181: 0.0248\n",
            "Loss at step 182: 0.0248\n",
            "Loss at step 183: 0.0248\n",
            "Loss at step 184: 0.0248\n",
            "Loss at step 185: 0.0248\n",
            "Loss at step 186: 0.0248\n",
            "Loss at step 187: 0.0248\n",
            "Loss at step 188: 0.0248\n",
            "Loss at step 189: 0.0248\n",
            "Loss at step 190: 0.0248\n",
            "Loss at step 191: 0.0248\n",
            "Loss at step 192: 0.0248\n",
            "Loss at step 193: 0.0248\n",
            "Loss at step 194: 0.0248\n",
            "Loss at step 195: 0.0248\n",
            "Loss at step 196: 0.0248\n",
            "Loss at step 197: 0.0248\n",
            "Loss at step 198: 0.0248\n",
            "Loss at step 199: 0.0248\n",
            "Loss at step 200: 0.0248\n",
            "Loss at step 201: 0.0248\n",
            "Loss at step 202: 0.0248\n",
            "Loss at step 203: 0.0248\n",
            "Loss at step 204: 0.0248\n",
            "Loss at step 205: 0.0248\n",
            "Loss at step 206: 0.0248\n",
            "Loss at step 207: 0.0248\n",
            "Loss at step 208: 0.0248\n",
            "Loss at step 209: 0.0248\n",
            "Loss at step 210: 0.0248\n",
            "Loss at step 211: 0.0248\n",
            "Loss at step 212: 0.0248\n",
            "Loss at step 213: 0.0248\n",
            "Loss at step 214: 0.0248\n",
            "Loss at step 215: 0.0248\n",
            "Loss at step 216: 0.0248\n",
            "Loss at step 217: 0.0248\n",
            "Loss at step 218: 0.0248\n",
            "Loss at step 219: 0.0248\n",
            "Loss at step 220: 0.0248\n",
            "Loss at step 221: 0.0248\n",
            "Loss at step 222: 0.0248\n",
            "Loss at step 223: 0.0248\n",
            "Loss at step 224: 0.0248\n",
            "Loss at step 225: 0.0248\n",
            "Loss at step 226: 0.0248\n",
            "Loss at step 227: 0.0248\n",
            "Loss at step 228: 0.0248\n",
            "Loss at step 229: 0.0248\n",
            "Loss at step 230: 0.0248\n",
            "Loss at step 231: 0.0248\n",
            "Loss at step 232: 0.0248\n",
            "Loss at step 233: 0.0248\n",
            "Loss at step 234: 0.0248\n",
            "Loss at step 235: 0.0248\n",
            "Loss at step 236: 0.0248\n",
            "Loss at step 237: 0.0248\n",
            "Loss at step 238: 0.0248\n",
            "Loss at step 239: 0.0248\n",
            "Loss at step 240: 0.0248\n",
            "Loss at step 241: 0.0248\n",
            "Loss at step 242: 0.0248\n",
            "Loss at step 243: 0.0248\n",
            "Loss at step 244: 0.0248\n",
            "Loss at step 245: 0.0248\n",
            "Loss at step 246: 0.0248\n",
            "Loss at step 247: 0.0248\n",
            "Loss at step 248: 0.0248\n",
            "Loss at step 249: 0.0248\n",
            "Loss at step 250: 0.0248\n",
            "Loss at step 251: 0.0248\n",
            "Loss at step 252: 0.0248\n",
            "Loss at step 253: 0.0248\n",
            "Loss at step 254: 0.0248\n",
            "Loss at step 255: 0.0248\n",
            "Loss at step 256: 0.0248\n",
            "Loss at step 257: 0.0248\n",
            "Loss at step 258: 0.0248\n",
            "Loss at step 259: 0.0248\n",
            "Loss at step 260: 0.0248\n",
            "Loss at step 261: 0.0248\n",
            "Loss at step 262: 0.0248\n",
            "Loss at step 263: 0.0248\n",
            "Loss at step 264: 0.0248\n",
            "Loss at step 265: 0.0248\n",
            "Loss at step 266: 0.0248\n",
            "Loss at step 267: 0.0248\n",
            "Loss at step 268: 0.0248\n",
            "Loss at step 269: 0.0248\n",
            "Loss at step 270: 0.0248\n",
            "Loss at step 271: 0.0248\n",
            "Loss at step 272: 0.0248\n",
            "Loss at step 273: 0.0248\n",
            "Loss at step 274: 0.0248\n",
            "Loss at step 275: 0.0248\n",
            "Loss at step 276: 0.0248\n",
            "Loss at step 277: 0.0248\n",
            "Loss at step 278: 0.0248\n",
            "Loss at step 279: 0.0248\n",
            "Loss at step 280: 0.0248\n",
            "Loss at step 281: 0.0248\n",
            "Loss at step 282: 0.0248\n",
            "Loss at step 283: 0.0248\n",
            "Loss at step 284: 0.0248\n",
            "Loss at step 285: 0.0248\n",
            "Loss at step 286: 0.0248\n",
            "Loss at step 287: 0.0248\n",
            "Loss at step 288: 0.0248\n",
            "Loss at step 289: 0.0248\n",
            "Loss at step 290: 0.0248\n",
            "Loss at step 291: 0.0248\n",
            "Loss at step 292: 0.0248\n",
            "Loss at step 293: 0.0248\n",
            "Loss at step 294: 0.0248\n",
            "Loss at step 295: 0.0248\n",
            "Loss at step 296: 0.0248\n",
            "Loss at step 297: 0.0248\n",
            "Loss at step 298: 0.0248\n",
            "Loss at step 299: 0.0248\n",
            "Loss at step 300: 0.0248\n",
            "Loss at step 301: 0.0248\n",
            "Loss at step 302: 0.0248\n",
            "Loss at step 303: 0.0248\n",
            "Loss at step 304: 0.0248\n",
            "Loss at step 305: 0.0248\n",
            "Loss at step 306: 0.0248\n",
            "Loss at step 307: 0.0248\n",
            "Loss at step 308: 0.0248\n",
            "Loss at step 309: 0.0248\n",
            "Loss at step 310: 0.0248\n",
            "Loss at step 311: 0.0248\n",
            "Loss at step 312: 0.0248\n",
            "Loss at step 313: 0.0248\n",
            "Loss at step 314: 0.0248\n",
            "Loss at step 315: 0.0248\n",
            "Loss at step 316: 0.0248\n",
            "Loss at step 317: 0.0248\n",
            "Loss at step 318: 0.0248\n",
            "Loss at step 319: 0.0248\n",
            "Loss at step 320: 0.0248\n",
            "Loss at step 321: 0.0248\n",
            "Loss at step 322: 0.0248\n",
            "Loss at step 323: 0.0248\n",
            "Loss at step 324: 0.0248\n",
            "Loss at step 325: 0.0248\n",
            "Loss at step 326: 0.0248\n",
            "Loss at step 327: 0.0248\n",
            "Loss at step 328: 0.0248\n",
            "Loss at step 329: 0.0248\n",
            "Loss at step 330: 0.0248\n",
            "Loss at step 331: 0.0248\n",
            "Loss at step 332: 0.0248\n",
            "Loss at step 333: 0.0248\n",
            "Loss at step 334: 0.0248\n",
            "Loss at step 335: 0.0248\n",
            "Loss at step 336: 0.0248\n",
            "Loss at step 337: 0.0248\n",
            "Loss at step 338: 0.0248\n",
            "Loss at step 339: 0.0248\n",
            "Loss at step 340: 0.0248\n",
            "Loss at step 341: 0.0248\n",
            "Loss at step 342: 0.0248\n",
            "Loss at step 343: 0.0248\n",
            "Loss at step 344: 0.0248\n",
            "Loss at step 345: 0.0248\n",
            "Loss at step 346: 0.0248\n",
            "Loss at step 347: 0.0248\n",
            "Loss at step 348: 0.0248\n",
            "Loss at step 349: 0.0248\n",
            "Loss at step 350: 0.0248\n",
            "Loss at step 351: 0.0248\n",
            "Loss at step 352: 0.0248\n",
            "Loss at step 353: 0.0248\n",
            "Loss at step 354: 0.0248\n",
            "Loss at step 355: 0.0248\n",
            "Loss at step 356: 0.0248\n",
            "Loss at step 357: 0.0248\n",
            "Loss at step 358: 0.0248\n",
            "Loss at step 359: 0.0248\n",
            "Loss at step 360: 0.0248\n",
            "Loss at step 361: 0.0248\n",
            "Loss at step 362: 0.0248\n",
            "Loss at step 363: 0.0248\n",
            "Loss at step 364: 0.0248\n",
            "Loss at step 365: 0.0248\n",
            "Loss at step 366: 0.0248\n",
            "Loss at step 367: 0.0248\n",
            "Loss at step 368: 0.0248\n",
            "Loss at step 369: 0.0248\n",
            "Loss at step 370: 0.0248\n",
            "Loss at step 371: 0.0248\n",
            "Loss at step 372: 0.0248\n",
            "Loss at step 373: 0.0248\n",
            "Loss at step 374: 0.0248\n",
            "Loss at step 375: 0.0248\n",
            "Loss at step 376: 0.0248\n",
            "Loss at step 377: 0.0248\n",
            "Loss at step 378: 0.0248\n",
            "Loss at step 379: 0.0248\n",
            "Loss at step 380: 0.0248\n",
            "Loss at step 381: 0.0248\n",
            "Loss at step 382: 0.0248\n",
            "Loss at step 383: 0.0248\n",
            "Loss at step 384: 0.0248\n",
            "Loss at step 385: 0.0248\n",
            "Loss at step 386: 0.0248\n",
            "Loss at step 387: 0.0248\n",
            "Loss at step 388: 0.0248\n",
            "Loss at step 389: 0.0248\n",
            "Loss at step 390: 0.0248\n",
            "Loss at step 391: 0.0248\n",
            "Loss at step 392: 0.0248\n",
            "Loss at step 393: 0.0248\n",
            "Loss at step 394: 0.0248\n",
            "Loss at step 395: 0.0248\n",
            "Loss at step 396: 0.0248\n",
            "Loss at step 397: 0.0248\n",
            "Loss at step 398: 0.0248\n",
            "Loss at step 399: 0.0248\n",
            "Loss at step 400: 0.0248\n",
            "Loss at step 401: 0.0248\n",
            "Loss at step 402: 0.0248\n",
            "Loss at step 403: 0.0248\n",
            "Loss at step 404: 0.0248\n",
            "Loss at step 405: 0.0248\n",
            "Loss at step 406: 0.0248\n",
            "Loss at step 407: 0.0248\n",
            "Loss at step 408: 0.0248\n",
            "Loss at step 409: 0.0248\n",
            "Loss at step 410: 0.0248\n",
            "Loss at step 411: 0.0248\n",
            "Loss at step 412: 0.0248\n",
            "Loss at step 413: 0.0248\n",
            "Loss at step 414: 0.0248\n",
            "Loss at step 415: 0.0248\n",
            "Loss at step 416: 0.0248\n",
            "Loss at step 417: 0.0248\n",
            "Loss at step 418: 0.0248\n",
            "Loss at step 419: 0.0248\n",
            "Loss at step 420: 0.0248\n",
            "Loss at step 421: 0.0248\n",
            "Loss at step 422: 0.0248\n",
            "Loss at step 423: 0.0248\n",
            "Loss at step 424: 0.0248\n",
            "Loss at step 425: 0.0248\n",
            "Loss at step 426: 0.0248\n",
            "Loss at step 427: 0.0248\n",
            "Loss at step 428: 0.0248\n",
            "Loss at step 429: 0.0248\n",
            "Loss at step 430: 0.0248\n",
            "Loss at step 431: 0.0248\n",
            "Loss at step 432: 0.0248\n",
            "Loss at step 433: 0.0248\n",
            "Loss at step 434: 0.0248\n",
            "Loss at step 435: 0.0248\n",
            "Loss at step 436: 0.0248\n",
            "Loss at step 437: 0.0248\n",
            "Loss at step 438: 0.0248\n",
            "Loss at step 439: 0.0248\n",
            "Loss at step 440: 0.0248\n",
            "Loss at step 441: 0.0248\n",
            "Loss at step 442: 0.0248\n",
            "Loss at step 443: 0.0248\n",
            "Loss at step 444: 0.0248\n",
            "Loss at step 445: 0.0248\n",
            "Loss at step 446: 0.0248\n",
            "Loss at step 447: 0.0248\n",
            "Loss at step 448: 0.0248\n",
            "Loss at step 449: 0.0248\n",
            "Loss at step 450: 0.0248\n",
            "Loss at step 451: 0.0248\n",
            "Loss at step 452: 0.0248\n",
            "Loss at step 453: 0.0248\n",
            "Loss at step 454: 0.0248\n",
            "Loss at step 455: 0.0248\n",
            "Loss at step 456: 0.0248\n",
            "Loss at step 457: 0.0248\n",
            "Loss at step 458: 0.0248\n",
            "Loss at step 459: 0.0248\n",
            "Loss at step 460: 0.0248\n",
            "Loss at step 461: 0.0248\n",
            "Loss at step 462: 0.0248\n",
            "Loss at step 463: 0.0248\n",
            "Loss at step 464: 0.0248\n",
            "Loss at step 465: 0.0248\n",
            "Loss at step 466: 0.0248\n",
            "Loss at step 467: 0.0248\n",
            "Loss at step 468: 0.0248\n",
            "Loss at step 469: 0.0248\n",
            "Loss at step 470: 0.0248\n",
            "Loss at step 471: 0.0248\n",
            "Loss at step 472: 0.0248\n",
            "Loss at step 473: 0.0248\n",
            "Loss at step 474: 0.0248\n",
            "Loss at step 475: 0.0248\n",
            "Loss at step 476: 0.0248\n",
            "Loss at step 477: 0.0248\n",
            "Loss at step 478: 0.0248\n",
            "Loss at step 479: 0.0248\n",
            "Loss at step 480: 0.0248\n",
            "Loss at step 481: 0.0248\n",
            "Loss at step 482: 0.0248\n",
            "Loss at step 483: 0.0248\n",
            "Loss at step 484: 0.0248\n",
            "Loss at step 485: 0.0248\n",
            "Loss at step 486: 0.0248\n",
            "Loss at step 487: 0.0248\n",
            "Loss at step 488: 0.0248\n",
            "Loss at step 489: 0.0248\n",
            "Loss at step 490: 0.0248\n",
            "Loss at step 491: 0.0248\n",
            "Loss at step 492: 0.0248\n",
            "Loss at step 493: 0.0248\n",
            "Loss at step 494: 0.0248\n",
            "Loss at step 495: 0.0248\n",
            "Loss at step 496: 0.0248\n",
            "Loss at step 497: 0.0248\n",
            "Loss at step 498: 0.0248\n",
            "Loss at step 499: 0.0248\n",
            "Loss at step 500: 0.0248\n",
            "Loss at step 501: 0.0248\n",
            "Loss at step 502: 0.0248\n",
            "Loss at step 503: 0.0248\n",
            "Loss at step 504: 0.0248\n",
            "Loss at step 505: 0.0248\n",
            "Loss at step 506: 0.0248\n",
            "Loss at step 507: 0.0248\n",
            "Loss at step 508: 0.0248\n",
            "Loss at step 509: 0.0248\n",
            "Loss at step 510: 0.0248\n",
            "Loss at step 511: 0.0248\n",
            "Loss at step 512: 0.0248\n",
            "Loss at step 513: 0.0248\n",
            "Loss at step 514: 0.0248\n",
            "Loss at step 515: 0.0248\n",
            "Loss at step 516: 0.0248\n",
            "Loss at step 517: 0.0248\n",
            "Loss at step 518: 0.0248\n",
            "Loss at step 519: 0.0248\n",
            "Loss at step 520: 0.0248\n",
            "Loss at step 521: 0.0248\n",
            "Loss at step 522: 0.0248\n",
            "Loss at step 523: 0.0248\n",
            "Loss at step 524: 0.0248\n",
            "Loss at step 525: 0.0248\n",
            "Loss at step 526: 0.0248\n",
            "Loss at step 527: 0.0248\n",
            "Loss at step 528: 0.0248\n",
            "Loss at step 529: 0.0248\n",
            "Loss at step 530: 0.0248\n",
            "Loss at step 531: 0.0248\n",
            "Loss at step 532: 0.0248\n",
            "Loss at step 533: 0.0248\n",
            "Loss at step 534: 0.0248\n",
            "Loss at step 535: 0.0248\n",
            "Loss at step 536: 0.0248\n",
            "Loss at step 537: 0.0248\n",
            "Loss at step 538: 0.0248\n",
            "Loss at step 539: 0.0248\n",
            "Loss at step 540: 0.0248\n",
            "Loss at step 541: 0.0248\n",
            "Loss at step 542: 0.0248\n",
            "Loss at step 543: 0.0248\n",
            "Loss at step 544: 0.0248\n",
            "Loss at step 545: 0.0248\n",
            "Loss at step 546: 0.0248\n",
            "Loss at step 547: 0.0248\n",
            "Loss at step 548: 0.0248\n",
            "Loss at step 549: 0.0248\n",
            "Loss at step 550: 0.0248\n",
            "Loss at step 551: 0.0248\n",
            "Loss at step 552: 0.0248\n",
            "Loss at step 553: 0.0248\n",
            "Loss at step 554: 0.0248\n",
            "Loss at step 555: 0.0248\n",
            "Loss at step 556: 0.0248\n",
            "Loss at step 557: 0.0248\n",
            "Loss at step 558: 0.0248\n",
            "Loss at step 559: 0.0248\n",
            "Loss at step 560: 0.0248\n",
            "Loss at step 561: 0.0248\n",
            "Loss at step 562: 0.0248\n",
            "Loss at step 563: 0.0248\n",
            "Loss at step 564: 0.0248\n",
            "Loss at step 565: 0.0248\n",
            "Loss at step 566: 0.0248\n",
            "Loss at step 567: 0.0248\n",
            "Loss at step 568: 0.0248\n",
            "Loss at step 569: 0.0248\n",
            "Loss at step 570: 0.0248\n",
            "Loss at step 571: 0.0248\n",
            "Loss at step 572: 0.0248\n",
            "Loss at step 573: 0.0248\n",
            "Loss at step 574: 0.0248\n",
            "Loss at step 575: 0.0248\n",
            "Loss at step 576: 0.0248\n",
            "Loss at step 577: 0.0248\n",
            "Loss at step 578: 0.0248\n",
            "Loss at step 579: 0.0248\n",
            "Loss at step 580: 0.0248\n",
            "Loss at step 581: 0.0248\n",
            "Loss at step 582: 0.0248\n",
            "Loss at step 583: 0.0248\n",
            "Loss at step 584: 0.0248\n",
            "Loss at step 585: 0.0248\n",
            "Loss at step 586: 0.0248\n",
            "Loss at step 587: 0.0248\n",
            "Loss at step 588: 0.0248\n",
            "Loss at step 589: 0.0248\n",
            "Loss at step 590: 0.0248\n",
            "Loss at step 591: 0.0248\n",
            "Loss at step 592: 0.0248\n",
            "Loss at step 593: 0.0248\n",
            "Loss at step 594: 0.0248\n",
            "Loss at step 595: 0.0248\n",
            "Loss at step 596: 0.0248\n",
            "Loss at step 597: 0.0248\n",
            "Loss at step 598: 0.0248\n",
            "Loss at step 599: 0.0248\n",
            "Loss at step 600: 0.0248\n",
            "Loss at step 601: 0.0248\n",
            "Loss at step 602: 0.0248\n",
            "Loss at step 603: 0.0248\n",
            "Loss at step 604: 0.0248\n",
            "Loss at step 605: 0.0248\n",
            "Loss at step 606: 0.0248\n",
            "Loss at step 607: 0.0248\n",
            "Loss at step 608: 0.0248\n",
            "Loss at step 609: 0.0248\n",
            "Loss at step 610: 0.0248\n",
            "Loss at step 611: 0.0248\n",
            "Loss at step 612: 0.0248\n",
            "Loss at step 613: 0.0248\n",
            "Loss at step 614: 0.0248\n",
            "Loss at step 615: 0.0248\n",
            "Loss at step 616: 0.0248\n",
            "Loss at step 617: 0.0248\n",
            "Loss at step 618: 0.0248\n",
            "Loss at step 619: 0.0248\n",
            "Loss at step 620: 0.0248\n",
            "Loss at step 621: 0.0248\n",
            "Loss at step 622: 0.0248\n",
            "Loss at step 623: 0.0248\n",
            "Loss at step 624: 0.0248\n",
            "Loss at step 625: 0.0248\n",
            "Loss at step 626: 0.0248\n",
            "Loss at step 627: 0.0248\n",
            "Loss at step 628: 0.0248\n",
            "Loss at step 629: 0.0248\n",
            "Loss at step 630: 0.0248\n",
            "Loss at step 631: 0.0248\n",
            "Loss at step 632: 0.0248\n",
            "Loss at step 633: 0.0248\n",
            "Loss at step 634: 0.0248\n",
            "Loss at step 635: 0.0248\n",
            "Loss at step 636: 0.0248\n",
            "Loss at step 637: 0.0248\n",
            "Loss at step 638: 0.0248\n",
            "Loss at step 639: 0.0248\n",
            "Loss at step 640: 0.0248\n",
            "Loss at step 641: 0.0248\n",
            "Loss at step 642: 0.0248\n",
            "Loss at step 643: 0.0248\n",
            "Loss at step 644: 0.0248\n",
            "Loss at step 645: 0.0248\n",
            "Loss at step 646: 0.0248\n",
            "Loss at step 647: 0.0248\n",
            "Loss at step 648: 0.0248\n",
            "Loss at step 649: 0.0248\n",
            "Loss at step 650: 0.0248\n",
            "Loss at step 651: 0.0248\n",
            "Loss at step 652: 0.0248\n",
            "Loss at step 653: 0.0248\n",
            "Loss at step 654: 0.0248\n",
            "Loss at step 655: 0.0248\n",
            "Loss at step 656: 0.0248\n",
            "Loss at step 657: 0.0248\n",
            "Loss at step 658: 0.0248\n",
            "Loss at step 659: 0.0248\n",
            "Loss at step 660: 0.0248\n",
            "Loss at step 661: 0.0248\n",
            "Loss at step 662: 0.0248\n",
            "Loss at step 663: 0.0248\n",
            "Loss at step 664: 0.0248\n",
            "Loss at step 665: 0.0248\n",
            "Loss at step 666: 0.0248\n",
            "Loss at step 667: 0.0248\n",
            "Loss at step 668: 0.0248\n",
            "Loss at step 669: 0.0248\n",
            "Loss at step 670: 0.0248\n",
            "Loss at step 671: 0.0248\n",
            "Loss at step 672: 0.0248\n",
            "Loss at step 673: 0.0248\n",
            "Loss at step 674: 0.0248\n",
            "Loss at step 675: 0.0248\n",
            "Loss at step 676: 0.0248\n",
            "Loss at step 677: 0.0248\n",
            "Loss at step 678: 0.0248\n",
            "Loss at step 679: 0.0248\n",
            "Loss at step 680: 0.0248\n",
            "Loss at step 681: 0.0248\n",
            "Loss at step 682: 0.0248\n",
            "Loss at step 683: 0.0248\n",
            "Loss at step 684: 0.0248\n",
            "Loss at step 685: 0.0248\n",
            "Loss at step 686: 0.0248\n",
            "Loss at step 687: 0.0248\n",
            "Loss at step 688: 0.0248\n",
            "Loss at step 689: 0.0248\n",
            "Loss at step 690: 0.0248\n",
            "Loss at step 691: 0.0248\n",
            "Loss at step 692: 0.0248\n",
            "Loss at step 693: 0.0248\n",
            "Loss at step 694: 0.0248\n",
            "Loss at step 695: 0.0248\n",
            "Loss at step 696: 0.0248\n",
            "Loss at step 697: 0.0248\n",
            "Loss at step 698: 0.0248\n",
            "Loss at step 699: 0.0248\n",
            "Loss at step 700: 0.0248\n",
            "Loss at step 701: 0.0248\n",
            "Loss at step 702: 0.0248\n",
            "Loss at step 703: 0.0248\n",
            "Loss at step 704: 0.0248\n",
            "Loss at step 705: 0.0248\n",
            "Loss at step 706: 0.0248\n",
            "Loss at step 707: 0.0248\n",
            "Loss at step 708: 0.0248\n",
            "Loss at step 709: 0.0248\n",
            "Loss at step 710: 0.0248\n",
            "Loss at step 711: 0.0248\n",
            "Loss at step 712: 0.0248\n",
            "Loss at step 713: 0.0248\n",
            "Loss at step 714: 0.0248\n",
            "Loss at step 715: 0.0248\n",
            "Loss at step 716: 0.0248\n",
            "Loss at step 717: 0.0248\n",
            "Loss at step 718: 0.0248\n",
            "Loss at step 719: 0.0248\n",
            "Loss at step 720: 0.0248\n",
            "Loss at step 721: 0.0248\n",
            "Loss at step 722: 0.0248\n",
            "Loss at step 723: 0.0248\n",
            "Loss at step 724: 0.0248\n",
            "Loss at step 725: 0.0248\n",
            "Loss at step 726: 0.0248\n",
            "Loss at step 727: 0.0248\n",
            "Loss at step 728: 0.0248\n",
            "Loss at step 729: 0.0248\n",
            "Loss at step 730: 0.0248\n",
            "Loss at step 731: 0.0248\n",
            "Loss at step 732: 0.0248\n",
            "Loss at step 733: 0.0248\n",
            "Loss at step 734: 0.0248\n",
            "Loss at step 735: 0.0248\n",
            "Loss at step 736: 0.0248\n",
            "Loss at step 737: 0.0248\n",
            "Loss at step 738: 0.0248\n",
            "Loss at step 739: 0.0248\n",
            "Loss at step 740: 0.0248\n",
            "Loss at step 741: 0.0248\n",
            "Loss at step 742: 0.0248\n",
            "Loss at step 743: 0.0248\n",
            "Loss at step 744: 0.0248\n",
            "Loss at step 745: 0.0248\n",
            "Loss at step 746: 0.0248\n",
            "Loss at step 747: 0.0248\n",
            "Loss at step 748: 0.0248\n",
            "Loss at step 749: 0.0248\n",
            "Loss at step 750: 0.0248\n",
            "Loss at step 751: 0.0248\n",
            "Loss at step 752: 0.0248\n",
            "Loss at step 753: 0.0248\n",
            "Loss at step 754: 0.0248\n",
            "Loss at step 755: 0.0248\n",
            "Loss at step 756: 0.0248\n",
            "Loss at step 757: 0.0248\n",
            "Loss at step 758: 0.0248\n",
            "Loss at step 759: 0.0248\n",
            "Loss at step 760: 0.0248\n",
            "Loss at step 761: 0.0248\n",
            "Loss at step 762: 0.0248\n",
            "Loss at step 763: 0.0248\n",
            "Loss at step 764: 0.0248\n",
            "Loss at step 765: 0.0248\n",
            "Loss at step 766: 0.0248\n",
            "Loss at step 767: 0.0248\n",
            "Loss at step 768: 0.0248\n",
            "Loss at step 769: 0.0248\n",
            "Loss at step 770: 0.0248\n",
            "Loss at step 771: 0.0248\n",
            "Loss at step 772: 0.0248\n",
            "Loss at step 773: 0.0248\n",
            "Loss at step 774: 0.0248\n",
            "Loss at step 775: 0.0248\n",
            "Loss at step 776: 0.0248\n",
            "Loss at step 777: 0.0248\n",
            "Loss at step 778: 0.0248\n",
            "Loss at step 779: 0.0248\n",
            "Loss at step 780: 0.0248\n",
            "Loss at step 781: 0.0248\n",
            "Loss at step 782: 0.0248\n",
            "Loss at step 783: 0.0248\n",
            "Loss at step 784: 0.0248\n",
            "Loss at step 785: 0.0248\n",
            "Loss at step 786: 0.0248\n",
            "Loss at step 787: 0.0248\n",
            "Loss at step 788: 0.0248\n",
            "Loss at step 789: 0.0248\n",
            "Loss at step 790: 0.0248\n",
            "Loss at step 791: 0.0248\n",
            "Loss at step 792: 0.0248\n",
            "Loss at step 793: 0.0248\n",
            "Loss at step 794: 0.0248\n",
            "Loss at step 795: 0.0248\n",
            "Loss at step 796: 0.0248\n",
            "Loss at step 797: 0.0248\n",
            "Loss at step 798: 0.0248\n",
            "Loss at step 799: 0.0248\n",
            "Loss at step 800: 0.0248\n",
            "Loss at step 801: 0.0248\n",
            "Loss at step 802: 0.0248\n",
            "Loss at step 803: 0.0248\n",
            "Loss at step 804: 0.0248\n",
            "Loss at step 805: 0.0248\n",
            "Loss at step 806: 0.0248\n",
            "Loss at step 807: 0.0248\n",
            "Loss at step 808: 0.0248\n",
            "Loss at step 809: 0.0248\n",
            "Loss at step 810: 0.0248\n",
            "Loss at step 811: 0.0248\n",
            "Loss at step 812: 0.0248\n",
            "Loss at step 813: 0.0248\n",
            "Loss at step 814: 0.0248\n",
            "Loss at step 815: 0.0248\n",
            "Loss at step 816: 0.0248\n",
            "Loss at step 817: 0.0248\n",
            "Loss at step 818: 0.0248\n",
            "Loss at step 819: 0.0248\n",
            "Loss at step 820: 0.0248\n",
            "Loss at step 821: 0.0248\n",
            "Loss at step 822: 0.0248\n",
            "Loss at step 823: 0.0248\n",
            "Loss at step 824: 0.0248\n",
            "Loss at step 825: 0.0248\n",
            "Loss at step 826: 0.0248\n",
            "Loss at step 827: 0.0248\n",
            "Loss at step 828: 0.0248\n",
            "Loss at step 829: 0.0248\n",
            "Loss at step 830: 0.0248\n",
            "Loss at step 831: 0.0248\n",
            "Loss at step 832: 0.0248\n",
            "Loss at step 833: 0.0248\n",
            "Loss at step 834: 0.0248\n",
            "Loss at step 835: 0.0248\n",
            "Loss at step 836: 0.0248\n",
            "Loss at step 837: 0.0248\n",
            "Loss at step 838: 0.0248\n",
            "Loss at step 839: 0.0248\n",
            "Loss at step 840: 0.0248\n",
            "Loss at step 841: 0.0248\n",
            "Loss at step 842: 0.0248\n",
            "Loss at step 843: 0.0248\n",
            "Loss at step 844: 0.0248\n",
            "Loss at step 845: 0.0248\n",
            "Loss at step 846: 0.0248\n",
            "Loss at step 847: 0.0248\n",
            "Loss at step 848: 0.0248\n",
            "Loss at step 849: 0.0248\n",
            "Loss at step 850: 0.0248\n",
            "Loss at step 851: 0.0248\n",
            "Loss at step 852: 0.0248\n",
            "Loss at step 853: 0.0248\n",
            "Loss at step 854: 0.0248\n",
            "Loss at step 855: 0.0248\n",
            "Loss at step 856: 0.0248\n",
            "Loss at step 857: 0.0248\n",
            "Loss at step 858: 0.0248\n",
            "Loss at step 859: 0.0248\n",
            "Loss at step 860: 0.0248\n",
            "Loss at step 861: 0.0248\n",
            "Loss at step 862: 0.0248\n",
            "Loss at step 863: 0.0248\n",
            "Loss at step 864: 0.0248\n",
            "Loss at step 865: 0.0248\n",
            "Loss at step 866: 0.0248\n",
            "Loss at step 867: 0.0248\n",
            "Loss at step 868: 0.0248\n",
            "Loss at step 869: 0.0248\n",
            "Loss at step 870: 0.0248\n",
            "Loss at step 871: 0.0248\n",
            "Loss at step 872: 0.0248\n",
            "Loss at step 873: 0.0248\n",
            "Loss at step 874: 0.0248\n",
            "Loss at step 875: 0.0248\n",
            "Loss at step 876: 0.0248\n",
            "Loss at step 877: 0.0248\n",
            "Loss at step 878: 0.0248\n",
            "Loss at step 879: 0.0248\n",
            "Loss at step 880: 0.0248\n",
            "Loss at step 881: 0.0248\n",
            "Loss at step 882: 0.0248\n",
            "Loss at step 883: 0.0248\n",
            "Loss at step 884: 0.0248\n",
            "Loss at step 885: 0.0248\n",
            "Loss at step 886: 0.0248\n",
            "Loss at step 887: 0.0248\n",
            "Loss at step 888: 0.0248\n",
            "Loss at step 889: 0.0248\n",
            "Loss at step 890: 0.0248\n",
            "Loss at step 891: 0.0248\n",
            "Loss at step 892: 0.0248\n",
            "Loss at step 893: 0.0248\n",
            "Loss at step 894: 0.0248\n",
            "Loss at step 895: 0.0248\n",
            "Loss at step 896: 0.0248\n",
            "Loss at step 897: 0.0248\n",
            "Loss at step 898: 0.0248\n",
            "Loss at step 899: 0.0248\n",
            "Loss at step 900: 0.0248\n",
            "Loss at step 901: 0.0248\n",
            "Loss at step 902: 0.0248\n",
            "Loss at step 903: 0.0248\n",
            "Loss at step 904: 0.0248\n",
            "Loss at step 905: 0.0248\n",
            "Loss at step 906: 0.0248\n",
            "Loss at step 907: 0.0248\n",
            "Loss at step 908: 0.0248\n",
            "Loss at step 909: 0.0248\n",
            "Loss at step 910: 0.0248\n",
            "Loss at step 911: 0.0248\n",
            "Loss at step 912: 0.0248\n",
            "Loss at step 913: 0.0248\n",
            "Loss at step 914: 0.0248\n",
            "Loss at step 915: 0.0248\n",
            "Loss at step 916: 0.0248\n",
            "Loss at step 917: 0.0248\n",
            "Loss at step 918: 0.0248\n",
            "Loss at step 919: 0.0248\n",
            "Loss at step 920: 0.0248\n",
            "Loss at step 921: 0.0248\n",
            "Loss at step 922: 0.0248\n",
            "Loss at step 923: 0.0248\n",
            "Loss at step 924: 0.0248\n",
            "Loss at step 925: 0.0248\n",
            "Loss at step 926: 0.0248\n",
            "Loss at step 927: 0.0248\n",
            "Loss at step 928: 0.0248\n",
            "Loss at step 929: 0.0248\n",
            "Loss at step 930: 0.0248\n",
            "Loss at step 931: 0.0248\n",
            "Loss at step 932: 0.0248\n",
            "Loss at step 933: 0.0248\n",
            "Loss at step 934: 0.0248\n",
            "Loss at step 935: 0.0248\n",
            "Loss at step 936: 0.0248\n",
            "Loss at step 937: 0.0248\n",
            "Loss at step 938: 0.0248\n",
            "Loss at step 939: 0.0248\n",
            "Loss at step 940: 0.0248\n",
            "Loss at step 941: 0.0248\n",
            "Loss at step 942: 0.0248\n",
            "Loss at step 943: 0.0248\n",
            "Loss at step 944: 0.0248\n",
            "Loss at step 945: 0.0248\n",
            "Loss at step 946: 0.0248\n",
            "Loss at step 947: 0.0248\n",
            "Loss at step 948: 0.0248\n",
            "Loss at step 949: 0.0248\n",
            "Loss at step 950: 0.0248\n",
            "Loss at step 951: 0.0248\n",
            "Loss at step 952: 0.0248\n",
            "Loss at step 953: 0.0248\n",
            "Loss at step 954: 0.0248\n",
            "Loss at step 955: 0.0248\n",
            "Loss at step 956: 0.0248\n",
            "Loss at step 957: 0.0248\n",
            "Loss at step 958: 0.0248\n",
            "Loss at step 959: 0.0248\n",
            "Loss at step 960: 0.0248\n",
            "Loss at step 961: 0.0248\n",
            "Loss at step 962: 0.0248\n",
            "Loss at step 963: 0.0248\n",
            "Loss at step 964: 0.0248\n",
            "Loss at step 965: 0.0248\n",
            "Loss at step 966: 0.0248\n",
            "Loss at step 967: 0.0248\n",
            "Loss at step 968: 0.0248\n",
            "Loss at step 969: 0.0248\n",
            "Loss at step 970: 0.0248\n",
            "Loss at step 971: 0.0248\n",
            "Loss at step 972: 0.0248\n",
            "Loss at step 973: 0.0248\n",
            "Loss at step 974: 0.0248\n",
            "Loss at step 975: 0.0248\n",
            "Loss at step 976: 0.0248\n",
            "Loss at step 977: 0.0248\n",
            "Loss at step 978: 0.0248\n",
            "Loss at step 979: 0.0248\n",
            "Loss at step 980: 0.0248\n",
            "Loss at step 981: 0.0248\n",
            "Loss at step 982: 0.0248\n",
            "Loss at step 983: 0.0248\n",
            "Loss at step 984: 0.0248\n",
            "Loss at step 985: 0.0248\n",
            "Loss at step 986: 0.0248\n",
            "Loss at step 987: 0.0248\n",
            "Loss at step 988: 0.0248\n",
            "Loss at step 989: 0.0248\n",
            "Loss at step 990: 0.0248\n",
            "Loss at step 991: 0.0248\n",
            "Loss at step 992: 0.0248\n",
            "Loss at step 993: 0.0248\n",
            "Loss at step 994: 0.0248\n",
            "Loss at step 995: 0.0248\n",
            "Loss at step 996: 0.0248\n",
            "Loss at step 997: 0.0248\n",
            "Loss at step 998: 0.0248\n",
            "Loss at step 999: 0.0248\n"
          ],
          "name": "stdout"
        }
      ]
    },
    {
      "cell_type": "code",
      "metadata": {
        "id": "69Mh91jw9yb5",
        "colab_type": "code",
        "colab": {
          "base_uri": "https://localhost:8080/",
          "height": 265
        },
        "outputId": "c14834c2-6991-4022-9573-1d14c86de7e4"
      },
      "source": [
        "predictions = model(inputs)   \n",
        "plt.scatter(inputs[:, 0], inputs[:, 1], c=predictions[:, 0] > 0.5)\n",
        "plt.show()\n"
      ],
      "execution_count": 68,
      "outputs": [
        {
          "output_type": "display_data",
          "data": {
            "image/png": "[encoded data removed]",
            "text/plain": [
              "<Figure size 432x288 with 1 Axes>"
            ]
          },
          "metadata": {
            "tags": [],
            "needs_background": "light"
          }
        }
      ]
    },
    {
      "cell_type": "markdown",
      "metadata": {
        "id": "68aem5SfwNig",
        "colab_type": "text"
      },
      "source": [
        "###To make it run fast, we use tf.functions"
      ]
    },
    {
      "cell_type": "code",
      "metadata": {
        "id": "uaScg2Nft3X6",
        "colab_type": "code",
        "colab": {
          "base_uri": "https://localhost:8080/",
          "height": 34
        },
        "outputId": "ba734784-0774-4714-e22b-694a441f9d1b"
      },
      "source": [
        "import time\n",
        "\n",
        "t0 = time.time()\n",
        "for epoch in range(20):\n",
        "  for step, (x, y) in enumerate(dataset):\n",
        "    loss = train_on_batch(x, y)\n",
        "t_end = time.time() - t0\n",
        "print('Time per epoch: %.3f s' % (t_end / 20,))\n"
      ],
      "execution_count": 23,
      "outputs": [
        {
          "output_type": "stream",
          "text": [
            "Time per epoch: 0.119 s\n"
          ],
          "name": "stdout"
        }
      ]
    },
    {
      "cell_type": "code",
      "metadata": {
        "id": "3L1lNKeGwUpu",
        "colab_type": "code",
        "colab": {}
      },
      "source": [
        "@tf.function\n",
        "def train_on_batch(x, y):\n",
        "  with tf.GradientTape() as tape:\n",
        "    predictions = compute_predictions(x)\n",
        "    loss = compute_loss(y, predictions)\n",
        "    dloss_dw, dloss_db = tape.gradient(loss, [w, b])\n",
        "  w.assign_sub(learning_rate * dloss_dw)\n",
        "  b.assign_sub(learning_rate * dloss_db)\n",
        "  return loss"
      ],
      "execution_count": 24,
      "outputs": []
    },
    {
      "cell_type": "code",
      "metadata": {
        "id": "iq13wROowXQF",
        "colab_type": "code",
        "colab": {
          "base_uri": "https://localhost:8080/",
          "height": 34
        },
        "outputId": "7138c582-0cef-4c7a-dcdf-1531e0a80739"
      },
      "source": [
        "t0 = time.time()\n",
        "for epoch in range(20):\n",
        "  for step, (x, y) in enumerate(dataset):\n",
        "    loss = train_on_batch(x, y)\n",
        "t_end = time.time() - t0\n",
        "print('Time per epoch: %.3f s' % (t_end / 20,))"
      ],
      "execution_count": 25,
      "outputs": [
        {
          "output_type": "stream",
          "text": [
            "Time per epoch: 0.073 s\n"
          ],
          "name": "stdout"
        }
      ]
    },
    {
      "cell_type": "markdown",
      "metadata": {
        "id": "c5Wz-ZPtyIc1",
        "colab_type": "text"
      },
      "source": [
        "###More examples for enhanced operation using gradientTape"
      ]
    },
    {
      "cell_type": "code",
      "metadata": {
        "id": "NsffNjl4wZDm",
        "colab_type": "code",
        "colab": {}
      },
      "source": [
        "import numpy as np\n",
        "import random\n",
        "\n",
        "# Loss function\n",
        "def loss(real_y, pred_y):\n",
        "    return tf.abs(real_y - pred_y)\n",
        "\n",
        "# Training data\n",
        "x_train = np.asarray([0, 1, 2, 3, 4, 5, 6, 7, 8, 9, 10])\n",
        "y_train = np.asarray([i*10+5 for i in x_train]) # y = 10x+5\n",
        "\n",
        "# Trainable variables\n",
        "a = tf.Variable(random.random(), trainable=True)\n",
        "b = tf.Variable(random.random(), trainable=True)"
      ],
      "execution_count": 26,
      "outputs": []
    },
    {
      "cell_type": "code",
      "metadata": {
        "id": "XdZ3GZK0yNju",
        "colab_type": "code",
        "colab": {}
      },
      "source": [
        "def step(real_x, real_y):\n",
        "    with tf.GradientTape(persistent=True) as tape:\n",
        "        # Make prediction\n",
        "        pred_y = a * real_x + b\n",
        "        # Calculate loss\n",
        "        reg_loss = loss(real_y, pred_y)\n",
        "    \n",
        "    # Calculate gradients\n",
        "    a_gradients, b_gradients = tape.gradient(reg_loss, (a, b))\n",
        "\n",
        "    # Update variables\n",
        "    a.assign_sub(a_gradients * 0.001)\n",
        "    b.assign_sub(b_gradients * 0.001)"
      ],
      "execution_count": 27,
      "outputs": []
    },
    {
      "cell_type": "code",
      "metadata": {
        "id": "z1d9lP2wyU3G",
        "colab_type": "code",
        "colab": {
          "base_uri": "https://localhost:8080/",
          "height": 34
        },
        "outputId": "7eb8200e-69d5-4fc0-ad31-7b6c5e4fd88f"
      },
      "source": [
        "for _ in range(100000):\n",
        "    step(x_train, y_train)\n",
        "\n",
        "print(f'y ≈ {a.numpy()}x + {b.numpy()}')"
      ],
      "execution_count": 29,
      "outputs": [
        {
          "output_type": "stream",
          "text": [
            "y ≈ 10.045232772827148x + 5.00129508972168\n"
          ],
          "name": "stdout"
        }
      ]
    },
    {
      "cell_type": "markdown",
      "metadata": {
        "id": "RgAjUlX50Ata",
        "colab_type": "text"
      },
      "source": [
        "###GRadientTape for MNIST classification\n"
      ]
    },
    {
      "cell_type": "code",
      "metadata": {
        "id": "uFEvNqHiyX9G",
        "colab_type": "code",
        "colab": {
          "base_uri": "https://localhost:8080/",
          "height": 51
        },
        "outputId": "025045a7-1cdd-4cd2-8288-43dd154e314a"
      },
      "source": [
        "\n",
        "from tensorflow.keras.datasets import mnist\n",
        "from tensorflow.keras.optimizers import Adam\n",
        "from tensorflow.keras.initializers import RandomNormal \n",
        "\n",
        "# Load and pre-process training data\n",
        "(x_train, y_train), (x_test, y_test) = mnist.load_data()\n",
        "x_train = (x_train / 255).reshape((-1, 28, 28, 1))\n",
        "y_train = tf.keras.utils.to_categorical(y_train, 10)\n",
        "x_test = (x_test / 255).reshape((-1, 28, 28, 1))\n",
        "y_test = tf.keras.utils.to_categorical(y_test, 10)\n",
        "\n",
        "# Hyperparameters\n",
        "batch_size = 128\n",
        "epochs = 50\n",
        "optimizer = Adam(lr=0.001)\n",
        "weight_init = RandomNormal()"
      ],
      "execution_count": 30,
      "outputs": [
        {
          "output_type": "stream",
          "text": [
            "Downloading data from https://storage.googleapis.com/tensorflow/tf-keras-datasets/mnist.npz\n",
            "11493376/11490434 [==============================] - 0s 0us/step\n"
          ],
          "name": "stdout"
        }
      ]
    },
    {
      "cell_type": "code",
      "metadata": {
        "id": "Go1Zb2fV0RWX",
        "colab_type": "code",
        "colab": {}
      },
      "source": [
        "from tensorflow.keras.layers import Conv2D, Flatten, Dense, Dropout, MaxPooling2D\n",
        "from tensorflow.keras.models import Sequential\n",
        "\n",
        "# Build model\n",
        "model = Sequential()\n",
        "model.add(Conv2D(32, kernel_size=(3, 3), activation='relu', kernel_initializer=weight_init, input_shape=(28, 28, 1)))\n",
        "model.add(Conv2D(64, (3, 3), activation='relu', kernel_initializer=weight_init))\n",
        "model.add(MaxPooling2D(pool_size=(2, 2)))\n",
        "model.add(Dropout(0.25))\n",
        "model.add(Flatten())\n",
        "model.add(Dense(128, activation='relu', kernel_initializer=weight_init))\n",
        "model.add(Dropout(0.5))\n",
        "model.add(Dense(10, activation='softmax', kernel_initializer=weight_init))"
      ],
      "execution_count": 31,
      "outputs": []
    },
    {
      "cell_type": "code",
      "metadata": {
        "id": "KMGAwWdv0ULn",
        "colab_type": "code",
        "colab": {}
      },
      "source": [
        "def step(real_x, real_y):\n",
        "    with tf.GradientTape() as tape:\n",
        "        # Make prediction\n",
        "        pred_y = model(real_x.reshape((-1, 28, 28, 1)))\n",
        "        # Calculate loss\n",
        "        model_loss = tf.keras.losses.categorical_crossentropy(real_y, pred_y)\n",
        "    \n",
        "    # Calculate gradients\n",
        "    model_gradients = tape.gradient(model_loss, model.trainable_variables)\n",
        "    # Update model\n",
        "    optimizer.apply_gradients(zip(model_gradients, model.trainable_variables))"
      ],
      "execution_count": 32,
      "outputs": []
    },
    {
      "cell_type": "markdown",
      "metadata": {
        "id": "dKkMu3tM1Mp0",
        "colab_type": "text"
      },
      "source": [
        "###Another example for gradienttape using linear classifier\n",
        "\n",
        "A Layer encapsulates a state (weights) and some computation (defined in the call method)."
      ]
    },
    {
      "cell_type": "code",
      "metadata": {
        "id": "TGrHI30Z0YvP",
        "colab_type": "code",
        "colab": {}
      },
      "source": [
        "from tensorflow.keras.layers import Layer\n",
        "\n",
        "class Linear(Layer):\n",
        "  \"\"\"y = w.x + b\"\"\"\n",
        "\n",
        "  def __init__(self, units=32, input_dim=32):\n",
        "      super(Linear, self).__init__()\n",
        "      w_init = tf.random_normal_initializer()\n",
        "      self.w = tf.Variable(\n",
        "          initial_value=w_init(shape=(input_dim, units), dtype='float32'),\n",
        "          trainable=True)\n",
        "      b_init = tf.zeros_initializer()\n",
        "      self.b = tf.Variable(\n",
        "          initial_value=b_init(shape=(units,), dtype='float32'),\n",
        "          trainable=True)\n",
        "\n",
        "  def call(self, inputs):\n",
        "      return tf.matmul(inputs, self.w) + self.b\n",
        "\n",
        "# Instantiate our layer.\n",
        "linear_layer = Linear(4, 2)"
      ],
      "execution_count": 35,
      "outputs": []
    },
    {
      "cell_type": "markdown",
      "metadata": {
        "id": "sfRMNqDf1hgc",
        "colab_type": "text"
      },
      "source": [
        "A layer instance works like a function. Let's call it on some data:"
      ]
    },
    {
      "cell_type": "code",
      "metadata": {
        "id": "OSS7qe8i1k8t",
        "colab_type": "code",
        "colab": {}
      },
      "source": [
        "y = linear_layer(tf.ones((2, 2)))\n",
        "assert y.shape == (2, 4)"
      ],
      "execution_count": 36,
      "outputs": []
    },
    {
      "cell_type": "markdown",
      "metadata": {
        "id": "qVQ4S51t1xa6",
        "colab_type": "text"
      },
      "source": [
        "The Layer class takes care of tracking the weights assigned to it as attributes:"
      ]
    },
    {
      "cell_type": "code",
      "metadata": {
        "id": "khDiUx0i1m2A",
        "colab_type": "code",
        "colab": {}
      },
      "source": [
        "# Weights are automatically tracked under the `weights` property.\n",
        "assert linear_layer.weights == [linear_layer.w, linear_layer.b]"
      ],
      "execution_count": 37,
      "outputs": []
    },
    {
      "cell_type": "markdown",
      "metadata": {
        "id": "XMGhlgfP2C8H",
        "colab_type": "text"
      },
      "source": [
        "It’s good practice to create weights in a separate build method, called lazily with the shape of the first inputs seen by your layer. Here, this pattern prevents us from having to specify input_dim in the constructor:"
      ]
    },
    {
      "cell_type": "code",
      "metadata": {
        "id": "60jZfFLb11bD",
        "colab_type": "code",
        "colab": {}
      },
      "source": [
        "class Linear(Layer):\n",
        "  \"\"\"y = w.x + b\"\"\"\n",
        "\n",
        "  def __init__(self, units=32):\n",
        "      super(Linear, self).__init__()\n",
        "      self.units = units\n",
        "\n",
        "  def build(self, input_shape):\n",
        "      self.w = self.add_weight(shape=(input_shape[-1], self.units),\n",
        "                               initializer='random_normal',\n",
        "                               trainable=True)\n",
        "      self.b = self.add_weight(shape=(self.units,),\n",
        "                               initializer='random_normal',\n",
        "                               trainable=True)\n",
        "\n",
        "  def call(self, inputs):\n",
        "      return tf.matmul(inputs, self.w) + self.b\n",
        "\n",
        "\n",
        "# Instantiate our lazy layer.\n",
        "linear_layer = Linear(4)\n",
        "\n",
        "# This will also call `build(input_shape)` and create the weights.\n",
        "y = linear_layer(tf.ones((2, 2)))\n",
        "assert len(linear_layer.weights) == 2"
      ],
      "execution_count": 38,
      "outputs": []
    },
    {
      "cell_type": "markdown",
      "metadata": {
        "id": "lN4ByIl_16fX",
        "colab_type": "text"
      },
      "source": [
        "###Using trainable and non-trainable weights"
      ]
    },
    {
      "cell_type": "code",
      "metadata": {
        "id": "qCpuO3Vc15wm",
        "colab_type": "code",
        "colab": {
          "base_uri": "https://localhost:8080/",
          "height": 51
        },
        "outputId": "f6229da6-3da7-4180-fe6f-bcc04af679b6"
      },
      "source": [
        "from tensorflow.keras.layers import Layer\n",
        "\n",
        "class ComputeSum(Layer):\n",
        "  \"\"\"Returns the sum of the inputs.\"\"\"\n",
        "\n",
        "  def __init__(self, input_dim):\n",
        "      super(ComputeSum, self).__init__()\n",
        "      # Create a non-trainable weight.\n",
        "      self.total = tf.Variable(initial_value=tf.zeros((input_dim,)),\n",
        "                               trainable=False)\n",
        "\n",
        "  def call(self, inputs):\n",
        "      self.total.assign_add(tf.reduce_sum(inputs, axis=0))\n",
        "      return self.total  \n",
        "\n",
        "my_sum = ComputeSum(2)\n",
        "x = tf.ones((2, 2))\n",
        "\n",
        "y = my_sum(x)\n",
        "print(y.numpy())  # [2. 2.]\n",
        "\n",
        "y = my_sum(x)\n",
        "print(y.numpy())  # [4. 4.]\n",
        "\n",
        "assert my_sum.weights == [my_sum.total]\n",
        "assert my_sum.non_trainable_weights == [my_sum.total]\n",
        "assert my_sum.trainable_weights == []"
      ],
      "execution_count": 39,
      "outputs": [
        {
          "output_type": "stream",
          "text": [
            "[2. 2.]\n",
            "[4. 4.]\n"
          ],
          "name": "stdout"
        }
      ]
    },
    {
      "cell_type": "markdown",
      "metadata": {
        "id": "uCWvLpdg2Lbm",
        "colab_type": "text"
      },
      "source": [
        "###REcursively composing layers"
      ]
    },
    {
      "cell_type": "code",
      "metadata": {
        "id": "i8LplAal2Ou5",
        "colab_type": "code",
        "colab": {}
      },
      "source": [
        "\n",
        "class MLP(Layer):\n",
        "    \"\"\"Simple stack of Linear layers.\"\"\"\n",
        "\n",
        "    def __init__(self):\n",
        "        super(MLP, self).__init__()\n",
        "        self.linear_1 = Linear(32)\n",
        "        self.linear_2 = Linear(32)\n",
        "        self.linear_3 = Linear(10)\n",
        "\n",
        "    def call(self, inputs):\n",
        "        x = self.linear_1(inputs)\n",
        "        x = tf.nn.relu(x)\n",
        "        x = self.linear_2(x)\n",
        "        x = tf.nn.relu(x)\n",
        "        return self.linear_3(x)\n",
        "\n",
        "mlp = MLP()\n",
        "\n",
        "# The first call to the `mlp` object will create the weights.\n",
        "y = mlp(tf.ones(shape=(3, 64)))\n",
        "\n",
        "# Weights are recursively tracked.\n",
        "assert len(mlp.weights) == 6"
      ],
      "execution_count": 40,
      "outputs": []
    },
    {
      "cell_type": "markdown",
      "metadata": {
        "id": "d2mnz1mn2a27",
        "colab_type": "text"
      },
      "source": [
        "###Training argument in call"
      ]
    },
    {
      "cell_type": "code",
      "metadata": {
        "id": "s9CS5VAC2dG1",
        "colab_type": "code",
        "colab": {}
      },
      "source": [
        "from tensorflow.keras.layers import Layer\n",
        "\n",
        "class Dropout(Layer):\n",
        "  \n",
        "  def __init__(self, rate):\n",
        "    super(Dropout, self).__init__()\n",
        "    self.rate = rate\n",
        "\n",
        "  def call(self, inputs, training=None):\n",
        "    if training:\n",
        "      return tf.nn.dropout(inputs, rate=self.rate)\n",
        "    return inputs\n",
        "\n",
        "class MLPWithDropout(Layer):\n",
        "\n",
        "  def __init__(self):\n",
        "      super(MLPWithDropout, self).__init__()\n",
        "      self.linear_1 = Linear(32)\n",
        "      self.dropout = Dropout(0.5)\n",
        "      self.linear_3 = Linear(10)\n",
        "\n",
        "  def call(self, inputs, training=None):\n",
        "      x = self.linear_1(inputs)\n",
        "      x = tf.nn.relu(x)\n",
        "      x = self.dropout(x, training=training)\n",
        "      return self.linear_3(x)\n",
        "    \n",
        "mlp = MLPWithDropout()\n",
        "y_train = mlp(tf.ones((2, 2)), training=True)\n",
        "y_test = mlp(tf.ones((2, 2)), training=False)"
      ],
      "execution_count": 41,
      "outputs": []
    },
    {
      "cell_type": "markdown",
      "metadata": {
        "id": "Nh-ToIUo2erz",
        "colab_type": "text"
      },
      "source": [
        "###functional way of defining models\n",
        "\n"
      ]
    },
    {
      "cell_type": "code",
      "metadata": {
        "id": "e_jd5FfF2l7j",
        "colab_type": "code",
        "colab": {}
      },
      "source": [
        "inputs = tf.keras.Input(shape=(16,))\n",
        "x = Linear(32)(inputs) # We are reusing the Linear layer we defined earlier.\n",
        "x = Dropout(0.5)(x) # We are reusing the Dropout layer we defined earlier.\n",
        "outputs = Linear(10)(x)\n",
        "model = tf.keras.Model(inputs, outputs)\n",
        "assert len(model.weights) == 4\n",
        "\n",
        "# Let's call our model on some data.\n",
        "y = model(tf.ones((2, 16)))\n",
        "assert y.shape == (2, 10)"
      ],
      "execution_count": 42,
      "outputs": []
    },
    {
      "cell_type": "markdown",
      "metadata": {
        "id": "BzKh6xIv2xsV",
        "colab_type": "text"
      },
      "source": [
        "For models that are simple stacks of layers with a single input and a single output, you can also use the Sequential class which turns a list of layers into a Model:"
      ]
    },
    {
      "cell_type": "code",
      "metadata": {
        "id": "zLBjVl_l2vU5",
        "colab_type": "code",
        "colab": {}
      },
      "source": [
        "from tensorflow.keras import Sequential\n",
        "\n",
        "model = Sequential([Linear(32), Dropout(0.5), Linear(10)])\n",
        "\n",
        "y = model(tf.ones((2, 16)))\n",
        "assert y.shape == (2, 10)"
      ],
      "execution_count": 43,
      "outputs": []
    },
    {
      "cell_type": "code",
      "metadata": {
        "id": "wwxA0xQy25lP",
        "colab_type": "code",
        "colab": {
          "base_uri": "https://localhost:8080/",
          "height": 34
        },
        "outputId": "68571de4-69cb-499e-d1de-cb36e506bc1d"
      },
      "source": [
        "bce = tf.keras.losses.BinaryCrossentropy()\n",
        "y_true = [0., 0., 1., 1.]  # Targets\n",
        "y_pred = [1., 1., 1., 0.]  # Predictions\n",
        "loss = bce(y_true, y_pred)\n",
        "print('Loss:', loss.numpy())"
      ],
      "execution_count": 44,
      "outputs": [
        {
          "output_type": "stream",
          "text": [
            "Loss: 11.522857\n"
          ],
          "name": "stdout"
        }
      ]
    },
    {
      "cell_type": "code",
      "metadata": {
        "id": "9a4qzf0627_8",
        "colab_type": "code",
        "colab": {
          "base_uri": "https://localhost:8080/",
          "height": 51
        },
        "outputId": "856e1295-214d-47df-e13e-d78aa0ac7365"
      },
      "source": [
        "m = tf.keras.metrics.AUC()\n",
        "m.update_state([0, 1, 1, 1], [0, 1, 0, 0])\n",
        "print('Intermediate result:', m.result().numpy())\n",
        "\n",
        "m.update_state([1, 1, 1, 1], [0, 1, 1, 0])\n",
        "print('Final result:', m.result().numpy())"
      ],
      "execution_count": 45,
      "outputs": [
        {
          "output_type": "stream",
          "text": [
            "Intermediate result: 0.6666667\n",
            "Final result: 0.71428573\n"
          ],
          "name": "stdout"
        }
      ]
    },
    {
      "cell_type": "markdown",
      "metadata": {
        "id": "GYJ79aHB3GFz",
        "colab_type": "text"
      },
      "source": [
        "###An end to end example for gradienTape"
      ]
    },
    {
      "cell_type": "code",
      "metadata": {
        "id": "YZ9gDQVD3FM9",
        "colab_type": "code",
        "colab": {
          "base_uri": "https://localhost:8080/",
          "height": 527
        },
        "outputId": "d844af74-f783-4490-a612-e84cf0715140"
      },
      "source": [
        "from tensorflow.keras import layers\n",
        "\n",
        "# Prepare a dataset.\n",
        "(x_train, y_train), (x_test, y_test) = tf.keras.datasets.mnist.load_data()\n",
        "x_train = x_train[:].reshape(60000, 784).astype('float32') / 255\n",
        "dataset = tf.data.Dataset.from_tensor_slices((x_train, y_train))\n",
        "dataset = dataset.shuffle(buffer_size=1024).batch(64)\n",
        "\n",
        "# Instantiate a simple classification model\n",
        "model = tf.keras.Sequential([\n",
        "  layers.Dense(256, activation=tf.nn.relu),\n",
        "  layers.Dense(256, activation=tf.nn.relu),\n",
        "  layers.Dense(10)\n",
        "])\n",
        "\n",
        "# Instantiate a logistic loss function that expects integer targets.\n",
        "loss = tf.keras.losses.SparseCategoricalCrossentropy(from_logits=True)\n",
        "\n",
        "# Instantiate an accuracy metric.\n",
        "accuracy = tf.keras.metrics.SparseCategoricalAccuracy()\n",
        "\n",
        "# Instantiate an optimizer.\n",
        "optimizer = tf.keras.optimizers.Adam()\n",
        "\n",
        "# Iterate over the batches of the dataset.\n",
        "for step, (x, y) in enumerate(dataset):\n",
        "  # Open a GradientTape.\n",
        "  with tf.GradientTape() as tape:\n",
        "\n",
        "    # Forward pass.\n",
        "    logits = model(x)\n",
        "\n",
        "    # Loss value for this batch.\n",
        "    loss_value = loss(y, logits)\n",
        "     \n",
        "  # Get gradients of loss wrt the weights.\n",
        "  gradients = tape.gradient(loss_value, model.trainable_weights)\n",
        "  \n",
        "  # Update the weights of our linear layer.\n",
        "  optimizer.apply_gradients(zip(gradients, model.trainable_weights))\n",
        "\n",
        "  # Update the running accuracy.\n",
        "  accuracy.update_state(y, logits)\n",
        "  \n",
        "  # Logging.\n",
        "  if step % 100 == 0:\n",
        "    print('Step:', step)\n",
        "    print('Loss from last step: %.3f' % loss_value)\n",
        "    print('Total running accuracy so far: %.3f' % accuracy.result())"
      ],
      "execution_count": 46,
      "outputs": [
        {
          "output_type": "stream",
          "text": [
            "Step: 0\n",
            "Loss from last step: 2.338\n",
            "Total running accuracy so far: 0.141\n",
            "Step: 100\n",
            "Loss from last step: 0.348\n",
            "Total running accuracy so far: 0.845\n",
            "Step: 200\n",
            "Loss from last step: 0.179\n",
            "Total running accuracy so far: 0.883\n",
            "Step: 300\n",
            "Loss from last step: 0.213\n",
            "Total running accuracy so far: 0.900\n",
            "Step: 400\n",
            "Loss from last step: 0.234\n",
            "Total running accuracy so far: 0.910\n",
            "Step: 500\n",
            "Loss from last step: 0.232\n",
            "Total running accuracy so far: 0.918\n",
            "Step: 600\n",
            "Loss from last step: 0.088\n",
            "Total running accuracy so far: 0.924\n",
            "Step: 700\n",
            "Loss from last step: 0.044\n",
            "Total running accuracy so far: 0.929\n",
            "Step: 800\n",
            "Loss from last step: 0.135\n",
            "Total running accuracy so far: 0.932\n",
            "Step: 900\n",
            "Loss from last step: 0.069\n",
            "Total running accuracy so far: 0.936\n"
          ],
          "name": "stdout"
        }
      ]
    }
  ]
}